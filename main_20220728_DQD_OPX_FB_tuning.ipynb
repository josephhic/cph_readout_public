{
    "cells": [
        {
            "cell_type": "markdown",
            "metadata": {},
            "source": [
                "# Qcodes loading"
            ]
        },
        {
            "cell_type": "code",
            "execution_count": 1,
            "metadata": {},
            "outputs": [],
            "source": [
                "# -*- coding: utf-8 -*-\n",
                "\"\"\"\n",
                "Created on January 27 2022\n",
                "\n",
                "@author: FB\n",
                "\"\"\"\n",
                "\n",
                "import matplotlib.pyplot as plt\n",
                "import numpy as np\n",
                "import os\n",
                "from time import sleep, monotonic\n",
                "\n",
                "import qcodes as qc\n",
                "from qcodes import Station, load_or_create_experiment, initialise_database, Measurement, load_by_run_spec, load_by_id\n",
                "from qcodes.dataset.plotting import plot_dataset, plot_by_id\n",
                "from qcodes.utils.dataset.doNd import do0d,do1d, do2d\n",
                "\n",
                "qc.config.dataset.dond_plot = True\n",
                "\n",
                "database_name = 'FF1B_2022_OPX' #database name file. Look at cell below for its location"
            ]
        },
        {
            "cell_type": "code",
            "execution_count": 2,
            "metadata": {},
            "outputs": [
                {
                    "name": "stdout",
                    "output_type": "stream",
                    "text": [
                        "Logging hadn't been started.\n",
                        "Activating auto-logging. Current session state plus future input saved.\n",
                        "Filename       : C:\\Users\\T7_3\\.qcodes\\logs\\command_history.log\n",
                        "Mode           : append\n",
                        "Output logging : True\n",
                        "Raw input log  : False\n",
                        "Timestamping   : True\n",
                        "State          : active\n",
                        "Qcodes Logfile : C:\\Users\\T7_3\\.qcodes\\logs\\220827-17276-qcodes.log\n"
                    ]
                }
            ],
            "source": [
                "dir_database = 'D:\\database'\n",
                "database_format = '.db'\n",
                "database_path = os.path.join(dir_database, database_name + database_format)\n",
                "\n",
                "qc.config.user.mainfolder = os.path.join(dir_database, database_name) #saves plots in png and pdf in the database folder\n",
                "qc.logger.start_all_logging()\n",
                "station = qc.Station()\n",
                "\n",
                "qc.initialise_or_create_database_at(database_path) \n",
                "exp = load_or_create_experiment(\n",
                "    experiment_name= 'T7_3',\n",
                "    sample_name=\"FF1B\"\n",
                ")"
            ]
        },
        {
            "cell_type": "code",
            "execution_count": 3,
            "metadata": {},
            "outputs": [],
            "source": [
                "STATION = qc.Station(config_file='config_20220506.yaml',use_monitor='True')"
            ]
        },
        {
            "cell_type": "code",
            "execution_count": 4,
            "metadata": {},
            "outputs": [
                {
                    "name": "stderr",
                    "output_type": "stream",
                    "text": [
                        "2022-08-27 12:08:07,068 ¦ py.warnings ¦ WARNING ¦ warnings ¦ _showwarnmsg ¦ 109 ¦ c:\\Users\\T7_3\\miniconda3\\envs\\livestream\\lib\\site-packages\\qcodes\\station.py:568: QCoDeSDeprecationWarning: The use of a comma separated string for the limits keyword is deprecated. Use \"an array like \"[lower_lim, upper_lim]\"\" as an alternative.\n",
                        "  issue_deprecation_warning(\n",
                        "\n"
                    ]
                }
            ],
            "source": [
                "#qdac=STATION.load_instrument('qdac_B')\n",
                "qdac_2=STATION.load_instrument('qdac_B_2')"
            ]
        },
        {
            "cell_type": "code",
            "execution_count": 5,
            "metadata": {},
            "outputs": [
                {
                    "name": "stdout",
                    "output_type": "stream",
                    "text": [
                        "Connected to: Mini-Circuits MN=RCDAT-6000-60 (serial:SN=11909040004, firmware:E5-2) in 0.06s\n",
                        "36.0\n"
                    ]
                }
            ],
            "source": [
                "step_att=STATION.load_instrument('step_att_2')\n",
                "print(step_att.attenuation())"
            ]
        },
        {
            "cell_type": "markdown",
            "metadata": {},
            "source": [
                "# Setting up buffered acquisition"
            ]
        },
        {
            "cell_type": "code",
            "execution_count": 6,
            "metadata": {},
            "outputs": [
                {
                    "name": "stdout",
                    "output_type": "stream",
                    "text": [
                        "2022-08-27 12:08:10,001 - qm - INFO - Performing health check\n",
                        "2022-08-27 12:08:10,011 - qm - INFO - Health check passed\n"
                    ]
                }
            ],
            "source": [
                "from config_OPX_20220610_buffered import config\n",
                "from qm.qua import wait_for_trigger,reset_phase,program,update_frequency,for_,stream_processing,declare,declare_stream,wait,measure,play,save,fixed,demod,ramp,amp,if_,elif_,else_,align, ramp_to_zero\n",
                "from qm.QuantumMachinesManager import QuantumMachinesManager\n",
                "\n",
                "qmm=QuantumMachinesManager(host='192.168.15.128',port=80)\n",
                "        #qmm.close_all_quantum_machines()\n",
                "qm=qmm.open_qm(config, close_other_machines=True)"
            ]
        },
        {
            "cell_type": "code",
            "execution_count": 7,
            "metadata": {},
            "outputs": [],
            "source": [
                "def setup_buffered(steps=100):\n",
                "    with program() as triggered_meas:\n",
                "        I =declare(fixed)\n",
                "        Q = declare(fixed)  \n",
                "        I_stream = declare_stream()\n",
                "        Q_stream = declare_stream()\n",
                "        \n",
                "        n = declare(int)\n",
                "        wait_for_trigger('bottom_right_DQD_readout')\n",
                "        with for_(n,0,n<steps,n+1):\n",
                "            measure('readout_pulse_3ms','bottom_right_DQD_readout',None,demod.full('cos', I), demod.full('sin', Q))\n",
                "            save(I,I_stream)\n",
                "            save(Q,Q_stream)\n",
                "\n",
                "        with stream_processing():\n",
                "            I_stream.buffer(steps).save('I')\n",
                "            Q_stream.buffer(steps).save('Q')\n",
                "\n",
                "    triggered_id = qm.compile(triggered_meas)\n",
                "    return triggered_id"
            ]
        },
        {
            "cell_type": "code",
            "execution_count": 8,
            "metadata": {},
            "outputs": [],
            "source": [
                "def start_triggered(triggered_id):\n",
                "    p_job=qm.queue.add_compiled(triggered_id)\n",
                "    return p_job.wait_for_execution()\n",
                "\n",
                "def get_amp(job):\n",
                "    I_handle = job.result_handles.get('I')\n",
                "    Q_handle = job.result_handles.get('Q')\n",
                "    Q_handle.wait_for_all_values()\n",
                "    I_handle.wait_for_all_values()\n",
                "    results_I = I_handle.fetch_all()\n",
                "    results_Q = Q_handle.fetch_all()\n",
                "    return np.sqrt(results_Q**2+results_I**2)\n",
                "\n",
                "\n",
                "def get_phase(job):\n",
                "    I_handle = job.result_handles.get('I')\n",
                "    Q_handle = job.result_handles.get('Q')\n",
                "    Q_handle.wait_for_all_values()\n",
                "    I_handle.wait_for_all_values()\n",
                "    results_I = I_handle.fetch_all()\n",
                "    results_Q = Q_handle.fetch_all()\n",
                "    return np.arctan2(results_Q,results_I)\n",
                "\n",
                "from qcodes import Measurement\n",
                "from time import sleep\n",
                "import time\n",
                "import re\n",
                "# do2d_buffered takes as channel not (e.g.) qdac.ch01.v but qdac.ch01, as I need later (in ramp_voltages_2d_buffered) the channel number (obtained by int(re.findall(\"\\d+\", <string name>)[0]))\n",
                "def do1d_buffered(chan, vstart, vend, steps ,step_length, job_id):    \n",
                "    \n",
                "    #dmm_lockin.sample.pretrigger_count(0)\n",
                "    start = time.time()\n",
                "    meas = Measurement()\n",
                "    v1s = np.linspace(vstart, vend, steps)\n",
                "    #v2s = np.linspace(fast_vstart, fast_vend, fast_steps)\n",
                "    meas.register_parameter(chan.v)\n",
                "    #meas.register_parameter(fast_chan.v)\n",
                "    meas.register_custom_parameter('amp', 'amp', 'V', setpoints=(chan.v,))\n",
                "    meas.register_custom_parameter('phase', 'phase', 'rad', setpoints=(chan.v,))\n",
                "    ramp_time = step_length*steps\n",
                "    with meas.run() as datasaver: \n",
                "        job = start_triggered(job_id)\n",
                "        # sleep(2)\n",
                "        \n",
                "        meas_time = qdac_2.ramp_voltages( [int(re.findall(\"\\d+\", chan.short_name)[0])], [vstart], [vend], ramp_time)\n",
                "                                                \n",
                "        # sleep(meas_time)\n",
                "        print(meas_time)\n",
                "        amp_data = get_amp(job) #data = dmm.fetch()\n",
                "        phase_data = get_phase(job)\n",
                "        datasaver.add_result((chan.v, np.linspace(vstart,vend,steps)),\n",
                "                            ('amp', amp_data.flatten()),\n",
                "                            ('phase',phase_data.flatten()))    \n",
                "    #dataset2D = datasaver.dataset\n",
                "    end = time.time()\n",
                "    # plt.pcolormesh(data)\n",
                "    print(end - start)\n"
            ]
        },
        {
            "cell_type": "markdown",
            "metadata": {},
            "source": [
                "## do1d buffered"
            ]
        },
        {
            "cell_type": "code",
            "execution_count": 9,
            "metadata": {},
            "outputs": [],
            "source": [
                "# # %% \n",
                "# qdac_2.ch06.sync(1) #channel\n",
                "# qdac_2.ch06.sync_delay(0)\n",
                "# qdac_2.ch06.sync_duration(0.001)\n",
                "# qdac_2.ch06.v.label = 'BNC 30'\n",
                "\n",
                "# steps = 100 #number of pixel along slow axis\n",
                "# time_per_pixel = 0.003 # in seconds\n",
                "# triggered_id = setup_buffered(steps=steps)\n",
                "# do1d_buffered(qdac_2.ch06, -0.2, -0.1 ,steps,time_per_pixel,triggered_id)\n",
                "# qdac_2.BNC30(-0.150)"
            ]
        },
        {
            "cell_type": "markdown",
            "metadata": {},
            "source": [
                "## 2D buffered"
            ]
        },
        {
            "cell_type": "code",
            "execution_count": 10,
            "metadata": {},
            "outputs": [],
            "source": [
                "from qcodes import Measurement\n",
                "from time import sleep\n",
                "import time\n",
                "import re\n",
                "# do2d_buffered takes as channel not (e.g.) qdac.ch01.v but qdac.ch01, as I need later (in ramp_voltages_2d_buffered) the channel number (obtained by int(re.findall(\"\\d+\", <string name>)[0]))\n",
                "def do2d_buffered(slow_chan, slow_vstart, slow_vend, slow_steps , fast_chan, fast_vstart, fast_vend, fast_steps ,step_length, job_id):    \n",
                "    \n",
                "    #dmm_lockin.sample.pretrigger_count(0)\n",
                "    start = time.time()\n",
                "    meas = Measurement()\n",
                "    v1s = np.linspace(slow_vstart, slow_vend, slow_steps)\n",
                "    v2s = np.linspace(fast_vstart, fast_vend, fast_steps)\n",
                "    meas.register_parameter(slow_chan.v)\n",
                "    meas.register_parameter(fast_chan.v)\n",
                "    meas.register_custom_parameter('amp', 'amp', 'V', setpoints=(slow_chan.v,fast_chan.v,))\n",
                "    meas.register_custom_parameter('phase', 'phase', 'rad', setpoints=(slow_chan.v,fast_chan.v,))\n",
                "    \n",
                "    with meas.run() as datasaver: \n",
                "        job = start_triggered(job_id)\n",
                "        # sleep(2)\n",
                "        meas_time = qdac_2.ramp_voltages_2d( slow_chans=[int(re.findall(\"\\d+\", slow_chan.short_name)[0])], slow_vstart=[slow_vstart], slow_vend=[slow_vend],\n",
                "                                    fast_chans=[int(re.findall(\"\\d+\", fast_chan.short_name)[0])], fast_vstart=[fast_vstart], fast_vend=[fast_vend],\n",
                "                                    step_length=step_length,slow_steps = slow_steps, fast_steps = fast_steps)\n",
                "                                                \n",
                "        # sleep(meas_time)\n",
                "        print(meas_time)\n",
                "\n",
                "        amp_data =  get_amp(job)  #data = dmm.fetch()\n",
                "        phase_data = get_phase(job)\n",
                "        datasaver.add_result((slow_chan.v, np.repeat(v1s,fast_steps)),\n",
                "                            (fast_chan.v, np.tile(v2s,slow_steps)),\n",
                "                            ('amp', amp_data.flatten()),\n",
                "                            ('phase',phase_data.flatten()))    \n",
                "    # #dataset2D = datasaver.dataset\n",
                "    end = time.time()\n",
                "    # # plt.pcolormesh(data)\n",
                "    print(end - start)\n"
            ]
        },
        {
            "cell_type": "code",
            "execution_count": 11,
            "metadata": {},
            "outputs": [],
            "source": [
                "qdac_2.ch12.sync(1) #slow channel\n",
                "qdac_2.ch12.sync_delay(0)\n",
                "qdac_2.ch12.sync_duration(0.001)\n",
                "qdac_2.ch12.v.label = 'BNC 36'\n",
                "qdac_2.ch05.v.label = 'BNC 29'"
            ]
        },
        {
            "cell_type": "code",
            "execution_count": 11,
            "metadata": {},
            "outputs": [
                {
                    "data": {
                        "text/plain": [
                            "-0.365005"
                        ]
                    },
                    "execution_count": 11,
                    "metadata": {},
                    "output_type": "execute_result"
                }
            ],
            "source": [
                "qdac_2.BNC34()"
            ]
        },
        {
            "cell_type": "code",
            "execution_count": 12,
            "metadata": {},
            "outputs": [
                {
                    "data": {
                        "text/plain": [
                            "-0.126691"
                        ]
                    },
                    "execution_count": 12,
                    "metadata": {},
                    "output_type": "execute_result"
                }
            ],
            "source": [
                "qdac_2.BNC29()"
            ]
        },
        {
            "cell_type": "code",
            "execution_count": 13,
            "metadata": {},
            "outputs": [
                {
                    "data": {
                        "text/plain": [
                            "-0.172801"
                        ]
                    },
                    "execution_count": 13,
                    "metadata": {},
                    "output_type": "execute_result"
                }
            ],
            "source": [
                "qdac_2.BNC36()"
            ]
        },
        {
            "cell_type": "code",
            "execution_count": 14,
            "metadata": {},
            "outputs": [
                {
                    "data": {
                        "text/plain": [
                            "-0.519996"
                        ]
                    },
                    "execution_count": 14,
                    "metadata": {},
                    "output_type": "execute_result"
                }
            ],
            "source": [
                "qdac_2.BNC32()"
            ]
        },
        {
            "cell_type": "code",
            "execution_count": 15,
            "metadata": {},
            "outputs": [
                {
                    "data": {
                        "text/plain": [
                            "-0.699991"
                        ]
                    },
                    "execution_count": 15,
                    "metadata": {},
                    "output_type": "execute_result"
                }
            ],
            "source": [
                "qdac_2.BNC37()"
            ]
        },
        {
            "cell_type": "code",
            "execution_count": 16,
            "metadata": {},
            "outputs": [
                {
                    "data": {
                        "text/plain": [
                            "-0.132105"
                        ]
                    },
                    "execution_count": 16,
                    "metadata": {},
                    "output_type": "execute_result"
                }
            ],
            "source": [
                "qdac_2.BNC30()"
            ]
        },
        {
            "cell_type": "code",
            "execution_count": 17,
            "metadata": {},
            "outputs": [
                {
                    "name": "stdout",
                    "output_type": "stream",
                    "text": [
                        "2022-07-28 09:48:52,273 - qm - INFO - Flags: \n",
                        "2022-07-28 09:48:52,274 - qm - INFO - Compiling program\n",
                        "Starting experimental run with id: 809. \n",
                        "2022-07-28 09:49:21,969 - qm - INFO - Sending pre-compiled program to QOP\n",
                        "30.0\n",
                        "31.13787007331848\n"
                    ]
                }
            ],
            "source": [
                "#qdac_2.BNC30(-0.1321)\n",
                "#qdac_2.BNC32(-0.520)\n",
                "#qdac_2.BNC34(-0.365)\n",
                "\n",
                "slow_steps = 100 #number of pixel along slow axis\n",
                "fast_steps = 100 #number of pixel along fast axis\n",
                "time_per_pixel = 0.003 # in seconds\n",
                "triggered_id = setup_buffered(steps=fast_steps*slow_steps)\n",
                "\n",
                "job=do2d_buffered(qdac_2.ch12,-0.190,-0.120, slow_steps, qdac_2.ch05, -0.18, -0.12, fast_steps,time_per_pixel, triggered_id)\n",
                "qdac_2.BNC29(-0.1267)\n",
                "qdac_2.BNC36(-0.1728)"
            ]
        },
        {
            "cell_type": "code",
            "execution_count": 18,
            "metadata": {},
            "outputs": [
                {
                    "name": "stdout",
                    "output_type": "stream",
                    "text": [
                        "2022-07-28 09:50:21,218 - qm - INFO - Flags: \n",
                        "2022-07-28 09:50:21,219 - qm - INFO - Compiling program\n",
                        "Starting experimental run with id: 810. \n",
                        "2022-07-28 09:50:44,002 - qm - INFO - Sending pre-compiled program to QOP\n",
                        "30.0\n",
                        "31.26127815246582\n"
                    ]
                }
            ],
            "source": [
                "qdac_2.BNC30(-0.132)\n",
                "#qdac_2.BNC32(-0.520)\n",
                "#qdac_2.BNC34(-0.365)\n",
                "\n",
                "slow_steps = 100 #number of pixel along slow axis\n",
                "fast_steps = 100 #number of pixel along fast axis\n",
                "time_per_pixel = 0.003 # in seconds\n",
                "triggered_id = setup_buffered(steps=fast_steps*slow_steps)\n",
                "\n",
                "job=do2d_buffered(qdac_2.ch12,-0.190,-0.120, slow_steps, qdac_2.ch05, -0.18, -0.12, fast_steps,time_per_pixel, triggered_id)\n",
                "qdac_2.BNC29(-0.1267)\n",
                "qdac_2.BNC36(-0.1728)"
            ]
        },
        {
            "cell_type": "code",
            "execution_count": 19,
            "metadata": {},
            "outputs": [],
            "source": [
                "ch2_DC_bias = -0.1265 #BNC29 in V\n",
                "ch1_DC_bias = -0.1725 #BNC36 in V\n",
                "\n",
                "ch2_DC_initialize = -0.1238 #BNC29 in V\n",
                "ch1_DC_initialize = -0.1829 #BNC36 in V"
            ]
        },
        {
            "cell_type": "code",
            "execution_count": 20,
            "metadata": {},
            "outputs": [],
            "source": [
                "qdac_2.BNC29(ch2_DC_bias)\n",
                "qdac_2.BNC36(ch1_DC_bias)"
            ]
        },
        {
            "cell_type": "markdown",
            "metadata": {},
            "source": [
                "# 29 Jul 2022"
            ]
        },
        {
            "cell_type": "code",
            "execution_count": 11,
            "metadata": {},
            "outputs": [
                {
                    "name": "stdout",
                    "output_type": "stream",
                    "text": [
                        "2022-07-29 08:41:57,390 - qm - INFO - Flags: \n",
                        "2022-07-29 08:41:57,391 - qm - INFO - Compiling program\n",
                        "Starting experimental run with id: 811. \n",
                        "2022-07-29 08:42:30,666 - qm - INFO - Sending pre-compiled program to QOP\n",
                        "30.0\n",
                        "31.164165496826172\n"
                    ]
                }
            ],
            "source": [
                "#qdac_2.BNC30(-0.132)\n",
                "#qdac_2.BNC32(-0.520)\n",
                "#qdac_2.BNC34(-0.365)\n",
                "\n",
                "slow_steps = 100 #number of pixel along slow axis\n",
                "fast_steps = 100 #number of pixel along fast axis\n",
                "time_per_pixel = 0.003 # in seconds\n",
                "triggered_id = setup_buffered(steps=fast_steps*slow_steps)\n",
                "\n",
                "job=do2d_buffered(qdac_2.ch12,-0.190,-0.120, slow_steps, qdac_2.ch05, -0.18, -0.12, fast_steps,time_per_pixel, triggered_id)\n",
                "qdac_2.BNC29(-0.1267)\n",
                "qdac_2.BNC36(-0.1728)"
            ]
        },
        {
            "cell_type": "code",
            "execution_count": 12,
            "metadata": {},
            "outputs": [
                {
                    "data": {
                        "text/plain": [
                            "-0.131991"
                        ]
                    },
                    "execution_count": 12,
                    "metadata": {},
                    "output_type": "execute_result"
                }
            ],
            "source": [
                "qdac_2.BNC30()"
            ]
        },
        {
            "cell_type": "code",
            "execution_count": 15,
            "metadata": {},
            "outputs": [
                {
                    "name": "stdout",
                    "output_type": "stream",
                    "text": [
                        "Starting experimental run with id: 814. \n",
                        "2022-07-29 08:47:44,755 - qm - INFO - Sending pre-compiled program to QOP\n",
                        "30.0\n",
                        "31.06813621520996\n"
                    ]
                }
            ],
            "source": [
                "qdac_2.BNC30(-0.1321)\n",
                "#qdac_2.BNC32(-0.520)\n",
                "#qdac_2.BNC34(-0.365)\n",
                "\n",
                "slow_steps = 100 #number of pixel along slow axis\n",
                "fast_steps = 100 #number of pixel along fast axis\n",
                "time_per_pixel = 0.003 # in seconds\n",
                "#triggered_id = setup_buffered(steps=fast_steps*slow_steps)\n",
                "\n",
                "job=do2d_buffered(qdac_2.ch12,-0.190,-0.120, slow_steps, qdac_2.ch05, -0.18, -0.12, fast_steps,time_per_pixel, triggered_id)\n",
                "qdac_2.BNC29(-0.1267)\n",
                "qdac_2.BNC36(-0.1728)"
            ]
        },
        {
            "cell_type": "code",
            "execution_count": 18,
            "metadata": {},
            "outputs": [],
            "source": [
                "ch2_DC_bias = -0.1271 #BNC29 in V\n",
                "ch1_DC_bias = -0.1731 #BNC36 in V\n",
                "\n",
                "ch2_DC_initialize = -0.123 #BNC29 in V\n",
                "ch1_DC_initialize = -0.1851 #BNC36 in V\n",
                "\n",
                "qdac_2.BNC29(ch2_DC_bias)\n",
                "qdac_2.BNC36(ch1_DC_bias)"
            ]
        },
        {
            "cell_type": "code",
            "execution_count": 13,
            "metadata": {},
            "outputs": [
                {
                    "name": "stdout",
                    "output_type": "stream",
                    "text": [
                        "2022-07-29 15:49:58,255 - qm - INFO - Flags: \n",
                        "2022-07-29 15:49:58,257 - qm - INFO - Compiling program\n",
                        "Starting experimental run with id: 815. \n",
                        "2022-07-29 15:50:27,248 - qm - INFO - Sending pre-compiled program to QOP\n",
                        "30.0\n",
                        "31.192787170410156\n"
                    ]
                }
            ],
            "source": [
                "#qdac_2.BNC30(-0.1321)\n",
                "#qdac_2.BNC32(-0.520)\n",
                "#qdac_2.BNC34(-0.365)\n",
                "\n",
                "slow_steps = 100 #number of pixel along slow axis\n",
                "fast_steps = 100 #number of pixel along fast axis\n",
                "time_per_pixel = 0.003 # in seconds\n",
                "triggered_id = setup_buffered(steps=fast_steps*slow_steps)\n",
                "\n",
                "job=do2d_buffered(qdac_2.ch12,-0.190,-0.120, slow_steps, qdac_2.ch05, -0.18, -0.12, fast_steps,time_per_pixel, triggered_id)\n",
                "qdac_2.BNC29(-0.1267)\n",
                "qdac_2.BNC36(-0.1728)"
            ]
        },
        {
            "cell_type": "code",
            "execution_count": 16,
            "metadata": {},
            "outputs": [],
            "source": [
                "ch2_DC_bias = -0.1274 #BNC29 in V\n",
                "ch1_DC_bias = -0.1728 #BNC36 in V\n",
                "\n",
                "ch2_DC_initialize = -0.1235 #BNC29 in V\n",
                "ch1_DC_initialize = -0.183 #BNC36 in V\n",
                "\n",
                "qdac_2.BNC29(ch2_DC_bias)\n",
                "qdac_2.BNC36(ch1_DC_bias)"
            ]
        },
        {
            "cell_type": "markdown",
            "metadata": {},
            "source": [
                "# 30 Jul 2022"
            ]
        },
        {
            "cell_type": "code",
            "execution_count": 11,
            "metadata": {},
            "outputs": [
                {
                    "name": "stdout",
                    "output_type": "stream",
                    "text": [
                        "2022-07-30 13:54:20,266 - qm - INFO - Flags: \n",
                        "2022-07-30 13:54:20,267 - qm - INFO - Compiling program\n",
                        "Starting experimental run with id: 826. \n",
                        "2022-07-30 13:54:53,622 - qm - INFO - Sending pre-compiled program to QOP\n",
                        "30.0\n",
                        "31.12001061439514\n"
                    ]
                }
            ],
            "source": [
                "#qdac_2.BNC30(-0.1321)\n",
                "#qdac_2.BNC32(-0.520)\n",
                "#qdac_2.BNC34(-0.365)\n",
                "\n",
                "slow_steps = 100 #number of pixel along slow axis\n",
                "fast_steps = 100 #number of pixel along fast axis\n",
                "time_per_pixel = 0.003 # in seconds\n",
                "triggered_id = setup_buffered(steps=fast_steps*slow_steps)\n",
                "\n",
                "job=do2d_buffered(qdac_2.ch12,-0.190,-0.120, slow_steps, qdac_2.ch05, -0.18, -0.12, fast_steps,time_per_pixel, triggered_id)\n",
                "qdac_2.BNC29(-0.1267)\n",
                "qdac_2.BNC36(-0.1728)"
            ]
        },
        {
            "cell_type": "code",
            "execution_count": 13,
            "metadata": {},
            "outputs": [
                {
                    "data": {
                        "text/plain": [
                            "-0.132105"
                        ]
                    },
                    "execution_count": 13,
                    "metadata": {},
                    "output_type": "execute_result"
                }
            ],
            "source": [
                "qdac_2.BNC30()"
            ]
        },
        {
            "cell_type": "code",
            "execution_count": 14,
            "metadata": {},
            "outputs": [
                {
                    "name": "stdout",
                    "output_type": "stream",
                    "text": [
                        "Starting experimental run with id: 827. \n",
                        "2022-07-30 13:55:59,907 - qm - INFO - Sending pre-compiled program to QOP\n",
                        "30.0\n",
                        "31.247979402542114\n"
                    ]
                }
            ],
            "source": [
                "qdac_2.BNC30(-0.1319)\n",
                "#qdac_2.BNC32(-0.520)\n",
                "#qdac_2.BNC34(-0.365)\n",
                "\n",
                "slow_steps = 100 #number of pixel along slow axis\n",
                "fast_steps = 100 #number of pixel along fast axis\n",
                "time_per_pixel = 0.003 # in seconds\n",
                "#triggered_id = setup_buffered(steps=fast_steps*slow_steps)\n",
                "\n",
                "job=do2d_buffered(qdac_2.ch12,-0.190,-0.120, slow_steps, qdac_2.ch05, -0.18, -0.12, fast_steps,time_per_pixel, triggered_id)\n",
                "qdac_2.BNC29(-0.1267)\n",
                "qdac_2.BNC36(-0.1728)"
            ]
        },
        {
            "cell_type": "code",
            "execution_count": 15,
            "metadata": {},
            "outputs": [],
            "source": [
                "ch2_DC_bias = -0.1265 #BNC29 in V\n",
                "ch1_DC_bias = -0.1726 #BNC36 in V\n",
                "\n",
                "ch2_DC_initialize = -0.1235 #BNC29 in V\n",
                "ch1_DC_initialize = -0.183 #BNC36 in V\n",
                "\n",
                "qdac_2.BNC29(ch2_DC_bias)\n",
                "qdac_2.BNC36(ch1_DC_bias)"
            ]
        },
        {
            "cell_type": "markdown",
            "metadata": {},
            "source": [
                "# 1 Aug 2022"
            ]
        },
        {
            "cell_type": "code",
            "execution_count": 10,
            "metadata": {},
            "outputs": [
                {
                    "data": {
                        "text/plain": [
                            "-0.1265"
                        ]
                    },
                    "execution_count": 10,
                    "metadata": {},
                    "output_type": "execute_result"
                }
            ],
            "source": [
                "qdac_2.BNC29()\n"
            ]
        },
        {
            "cell_type": "code",
            "execution_count": 11,
            "metadata": {},
            "outputs": [
                {
                    "data": {
                        "text/plain": [
                            "-0.172592"
                        ]
                    },
                    "execution_count": 11,
                    "metadata": {},
                    "output_type": "execute_result"
                }
            ],
            "source": [
                "qdac_2.BNC36()"
            ]
        },
        {
            "cell_type": "code",
            "execution_count": 12,
            "metadata": {},
            "outputs": [
                {
                    "data": {
                        "text/plain": [
                            "-0.131895"
                        ]
                    },
                    "execution_count": 12,
                    "metadata": {},
                    "output_type": "execute_result"
                }
            ],
            "source": [
                "qdac_2.BNC30()"
            ]
        },
        {
            "cell_type": "code",
            "execution_count": 13,
            "metadata": {},
            "outputs": [
                {
                    "name": "stdout",
                    "output_type": "stream",
                    "text": [
                        "2022-08-01 19:21:31,867 - qm - INFO - Flags: \n",
                        "2022-08-01 19:21:31,868 - qm - INFO - Compiling program\n",
                        "Starting experimental run with id: 888. \n",
                        "2022-08-01 19:22:01,323 - qm - INFO - Sending pre-compiled program to QOP\n",
                        "30.0\n",
                        "31.121402502059937\n"
                    ]
                }
            ],
            "source": [
                "#qdac_2.BNC30(-0.1319)\n",
                "#qdac_2.BNC32(-0.520)\n",
                "#qdac_2.BNC34(-0.365)\n",
                "\n",
                "slow_steps = 100 #number of pixel along slow axis\n",
                "fast_steps = 100 #number of pixel along fast axis\n",
                "time_per_pixel = 0.003 # in seconds\n",
                "triggered_id = setup_buffered(steps=fast_steps*slow_steps)\n",
                "\n",
                "job=do2d_buffered(qdac_2.ch12,-0.190,-0.120, slow_steps, qdac_2.ch05, -0.18, -0.12, fast_steps,time_per_pixel, triggered_id)\n",
                "qdac_2.BNC29(-0.1267)\n",
                "qdac_2.BNC36(-0.1728)"
            ]
        },
        {
            "cell_type": "code",
            "execution_count": 14,
            "metadata": {},
            "outputs": [],
            "source": [
                "qdac_2.BNC29(-0.1266)\n",
                "qdac_2.BNC36(-0.1725)"
            ]
        },
        {
            "cell_type": "code",
            "execution_count": 15,
            "metadata": {},
            "outputs": [],
            "source": [
                "qdac_2.BNC29(-0.127)\n",
                "qdac_2.BNC36(-0.1733)"
            ]
        },
        {
            "cell_type": "code",
            "execution_count": 17,
            "metadata": {},
            "outputs": [],
            "source": [
                "step_att.attenuation(34)"
            ]
        },
        {
            "cell_type": "markdown",
            "metadata": {},
            "source": [
                "# 3 aug 2022"
            ]
        },
        {
            "cell_type": "code",
            "execution_count": 12,
            "metadata": {},
            "outputs": [
                {
                    "name": "stdout",
                    "output_type": "stream",
                    "text": [
                        "2022-08-03 08:00:48,526 - qm - INFO - Flags: \n",
                        "2022-08-03 08:00:48,526 - qm - INFO - Compiling program\n",
                        "Starting experimental run with id: 904. \n",
                        "2022-08-03 08:01:18,285 - qm - INFO - Sending pre-compiled program to QOP\n",
                        "30.0\n",
                        "31.170734882354736\n"
                    ]
                }
            ],
            "source": [
                "#qdac_2.BNC30(-0.1319)\n",
                "#qdac_2.BNC32(-0.520)\n",
                "#qdac_2.BNC34(-0.365)\n",
                "\n",
                "slow_steps = 100 #number of pixel along slow axis\n",
                "fast_steps = 100 #number of pixel along fast axis\n",
                "time_per_pixel = 0.003 # in seconds\n",
                "triggered_id = setup_buffered(steps=fast_steps*slow_steps)\n",
                "\n",
                "job=do2d_buffered(qdac_2.ch12,-0.190,-0.120, slow_steps, qdac_2.ch05, -0.18, -0.12, fast_steps,time_per_pixel, triggered_id)\n",
                "qdac_2.BNC29(-0.1267)\n",
                "qdac_2.BNC36(-0.1728)"
            ]
        },
        {
            "cell_type": "code",
            "execution_count": 13,
            "metadata": {},
            "outputs": [
                {
                    "data": {
                        "text/plain": [
                            "-0.131895"
                        ]
                    },
                    "execution_count": 13,
                    "metadata": {},
                    "output_type": "execute_result"
                }
            ],
            "source": [
                "qdac_2.BNC30()"
            ]
        },
        {
            "cell_type": "code",
            "execution_count": 14,
            "metadata": {},
            "outputs": [
                {
                    "name": "stdout",
                    "output_type": "stream",
                    "text": [
                        "Starting experimental run with id: 905. \n",
                        "2022-08-03 08:02:29,343 - qm - INFO - Sending pre-compiled program to QOP\n",
                        "30.0\n",
                        "31.557135581970215\n"
                    ]
                }
            ],
            "source": [
                "qdac_2.BNC30(-0.1316)\n",
                "#qdac_2.BNC32(-0.520)\n",
                "#qdac_2.BNC34(-0.365)\n",
                "\n",
                "slow_steps = 100 #number of pixel along slow axis\n",
                "fast_steps = 100 #number of pixel along fast axis\n",
                "time_per_pixel = 0.003 # in seconds\n",
                "#triggered_id = setup_buffered(steps=fast_steps*slow_steps)\n",
                "\n",
                "job=do2d_buffered(qdac_2.ch12,-0.190,-0.120, slow_steps, qdac_2.ch05, -0.18, -0.12, fast_steps,time_per_pixel, triggered_id)\n",
                "qdac_2.BNC29(-0.1267)\n",
                "qdac_2.BNC36(-0.1728)"
            ]
        },
        {
            "cell_type": "code",
            "execution_count": 12,
            "metadata": {},
            "outputs": [
                {
                    "name": "stdout",
                    "output_type": "stream",
                    "text": [
                        "2022-08-03 13:42:50,468 - qm - INFO - Flags: \n",
                        "2022-08-03 13:42:50,470 - qm - INFO - Compiling program\n",
                        "Starting experimental run with id: 922. \n",
                        "2022-08-03 13:43:18,745 - qm - INFO - Sending pre-compiled program to QOP\n",
                        "30.0\n",
                        "31.206955671310425\n"
                    ]
                }
            ],
            "source": [
                "qdac_2.BNC30(-0.1317)\n",
                "#qdac_2.BNC32(-0.520)\n",
                "#qdac_2.BNC34(-0.365)\n",
                "\n",
                "slow_steps = 100 #number of pixel along slow axis\n",
                "fast_steps = 100 #number of pixel along fast axis\n",
                "time_per_pixel = 0.003 # in seconds\n",
                "triggered_id = setup_buffered(steps=fast_steps*slow_steps)\n",
                "\n",
                "job=do2d_buffered(qdac_2.ch12,-0.190,-0.120, slow_steps, qdac_2.ch05, -0.18, -0.12, fast_steps,time_per_pixel, triggered_id)\n",
                "qdac_2.BNC29(-0.1267)\n",
                "qdac_2.BNC36(-0.1728)"
            ]
        },
        {
            "cell_type": "code",
            "execution_count": 16,
            "metadata": {},
            "outputs": [],
            "source": [
                "qdac_2.BNC29(-0.1265)\n",
                "qdac_2.BNC36(-0.1723)"
            ]
        },
        {
            "cell_type": "code",
            "execution_count": 14,
            "metadata": {},
            "outputs": [
                {
                    "name": "stdout",
                    "output_type": "stream",
                    "text": [
                        "Starting experimental run with id: 924. \n",
                        "2022-08-03 13:45:27,178 - qm - INFO - Sending pre-compiled program to QOP\n",
                        "30.0\n",
                        "31.09781765937805\n"
                    ]
                }
            ],
            "source": [
                "qdac_2.BNC30(-0.1325)\n",
                "#qdac_2.BNC32(-0.520)\n",
                "#qdac_2.BNC34(-0.365)\n",
                "\n",
                "slow_steps = 100 #number of pixel along slow axis\n",
                "fast_steps = 100 #number of pixel along fast axis\n",
                "time_per_pixel = 0.003 # in seconds\n",
                "#triggered_id = setup_buffered(steps=fast_steps*slow_steps)\n",
                "\n",
                "job=do2d_buffered(qdac_2.ch12,-0.190,-0.120, slow_steps, qdac_2.ch05, -0.18, -0.12, fast_steps,time_per_pixel, triggered_id)\n",
                "qdac_2.BNC29(-0.1267)\n",
                "qdac_2.BNC36(-0.1728)"
            ]
        },
        {
            "cell_type": "code",
            "execution_count": 15,
            "metadata": {},
            "outputs": [
                {
                    "name": "stdout",
                    "output_type": "stream",
                    "text": [
                        "Starting experimental run with id: 925. \n",
                        "2022-08-03 13:46:15,590 - qm - INFO - Sending pre-compiled program to QOP\n",
                        "30.0\n",
                        "31.230884790420532\n"
                    ]
                }
            ],
            "source": [
                "qdac_2.BNC30(-0.1323)\n",
                "#qdac_2.BNC32(-0.520)\n",
                "#qdac_2.BNC34(-0.365)\n",
                "\n",
                "slow_steps = 100 #number of pixel along slow axis\n",
                "fast_steps = 100 #number of pixel along fast axis\n",
                "time_per_pixel = 0.003 # in seconds\n",
                "#triggered_id = setup_buffered(steps=fast_steps*slow_steps)\n",
                "\n",
                "job=do2d_buffered(qdac_2.ch12,-0.190,-0.120, slow_steps, qdac_2.ch05, -0.18, -0.12, fast_steps,time_per_pixel, triggered_id)\n",
                "qdac_2.BNC29(-0.1267)\n",
                "qdac_2.BNC36(-0.1728)"
            ]
        },
        {
            "cell_type": "code",
            "execution_count": 17,
            "metadata": {},
            "outputs": [],
            "source": [
                "qdac_2.BNC29(-0.1272)\n",
                "qdac_2.BNC36(-0.1738)"
            ]
        },
        {
            "cell_type": "markdown",
            "metadata": {},
            "source": [
                "# 4 Aug 2022"
            ]
        },
        {
            "cell_type": "code",
            "execution_count": 12,
            "metadata": {},
            "outputs": [
                {
                    "data": {
                        "text/plain": [
                            "-0.365005"
                        ]
                    },
                    "execution_count": 12,
                    "metadata": {},
                    "output_type": "execute_result"
                }
            ],
            "source": [
                "qdac_2.BNC34()"
            ]
        },
        {
            "cell_type": "code",
            "execution_count": 13,
            "metadata": {},
            "outputs": [
                {
                    "name": "stdout",
                    "output_type": "stream",
                    "text": [
                        "2022-08-04 10:39:46,158 - qm - INFO - Flags: \n",
                        "2022-08-04 10:39:46,159 - qm - INFO - Compiling program\n",
                        "Starting experimental run with id: 948. \n",
                        "2022-08-04 10:40:18,235 - qm - INFO - Sending pre-compiled program to QOP\n",
                        "30.0\n",
                        "31.317617654800415\n"
                    ]
                }
            ],
            "source": [
                "#qdac_2.BNC30(-0.1323)\n",
                "#qdac_2.BNC32(-0.520)\n",
                "qdac_2.BNC34(-0.360)\n",
                "\n",
                "slow_steps = 100 #number of pixel along slow axis\n",
                "fast_steps = 100 #number of pixel along fast axis\n",
                "time_per_pixel = 0.003 # in seconds\n",
                "triggered_id = setup_buffered(steps=fast_steps*slow_steps)\n",
                "\n",
                "job=do2d_buffered(qdac_2.ch12,-0.190,-0.120, slow_steps, qdac_2.ch05, -0.18, -0.12, fast_steps,time_per_pixel, triggered_id)\n",
                "qdac_2.BNC29(-0.1267)\n",
                "qdac_2.BNC36(-0.1728)"
            ]
        },
        {
            "cell_type": "code",
            "execution_count": 17,
            "metadata": {},
            "outputs": [
                {
                    "name": "stdout",
                    "output_type": "stream",
                    "text": [
                        "Starting experimental run with id: 952. \n",
                        "2022-08-04 10:49:08,102 - qm - INFO - Sending pre-compiled program to QOP\n",
                        "30.0\n",
                        "31.376784801483154\n"
                    ]
                }
            ],
            "source": [
                "qdac_2.BNC30(-0.1322)\n",
                "#qdac_2.BNC32(-0.520)\n",
                "#qdac_2.BNC34(-0.360)\n",
                "\n",
                "slow_steps = 100 #number of pixel along slow axis\n",
                "fast_steps = 100 #number of pixel along fast axis\n",
                "time_per_pixel = 0.003 # in seconds\n",
                "triggered_id = setup_buffered(steps=fast_steps*slow_steps)\n",
                "\n",
                "job=do2d_buffered(qdac_2.ch12,-0.20,-0.130, slow_steps, qdac_2.ch05, -0.17, -0.11, fast_steps,time_per_pixel, triggered_id)\n",
                "qdac_2.BNC29(-0.1267)\n",
                "qdac_2.BNC36(-0.1728)"
            ]
        },
        {
            "cell_type": "code",
            "execution_count": 18,
            "metadata": {},
            "outputs": [],
            "source": [
                "ch2_DC_bias = -0.1294 #BNC29 in V\n",
                "ch1_DC_bias = -0.1775 #BNC36 in V\n",
                "\n",
                "ch2_DC_initialize = -0.1141 #BNC29 in V\n",
                "ch1_DC_initialize = -0.1965 #BNC36 in V\n",
                "\n",
                "qdac_2.BNC29(ch2_DC_bias)\n",
                "qdac_2.BNC36(ch1_DC_bias)"
            ]
        },
        {
            "cell_type": "code",
            "execution_count": 12,
            "metadata": {},
            "outputs": [
                {
                    "name": "stdout",
                    "output_type": "stream",
                    "text": [
                        "2022-08-04 11:01:47,781 - qm - INFO - Flags: \n",
                        "2022-08-04 11:01:47,781 - qm - INFO - Compiling program\n",
                        "Starting experimental run with id: 954. \n",
                        "2022-08-04 11:02:08,795 - qm - INFO - Sending pre-compiled program to QOP\n",
                        "30.0\n",
                        "31.14810013771057\n"
                    ]
                }
            ],
            "source": [
                "qdac_2.BNC30(-0.1323)\n",
                "#qdac_2.BNC32(-0.520)\n",
                "qdac_2.BNC34(-0.365)\n",
                "\n",
                "slow_steps = 100 #number of pixel along slow axis\n",
                "fast_steps = 100 #number of pixel along fast axis\n",
                "time_per_pixel = 0.003 # in seconds\n",
                "triggered_id = setup_buffered(steps=fast_steps*slow_steps)\n",
                "\n",
                "job=do2d_buffered(qdac_2.ch12,-0.190,-0.120, slow_steps, qdac_2.ch05, -0.18, -0.12, fast_steps,time_per_pixel, triggered_id)\n",
                "qdac_2.BNC29(-0.1267)\n",
                "qdac_2.BNC36(-0.1728)"
            ]
        },
        {
            "cell_type": "code",
            "execution_count": 13,
            "metadata": {},
            "outputs": [],
            "source": [
                "ch2_DC_bias = -0.1272 #BNC29 in V\n",
                "ch1_DC_bias = -0.1738 #BNC36 in V\n",
                "\n",
                "ch2_DC_initialize = -0.123 #BNC29 in V\n",
                "ch1_DC_initialize = -0.1856 #BNC36 in V\n",
                "\n",
                "qdac_2.BNC29(ch2_DC_bias)\n",
                "qdac_2.BNC36(ch1_DC_bias)"
            ]
        },
        {
            "cell_type": "code",
            "execution_count": 11,
            "metadata": {},
            "outputs": [
                {
                    "data": {
                        "text/plain": [
                            "-0.365005"
                        ]
                    },
                    "execution_count": 11,
                    "metadata": {},
                    "output_type": "execute_result"
                }
            ],
            "source": [
                "qdac_2.BNC34()\n"
            ]
        },
        {
            "cell_type": "code",
            "execution_count": 12,
            "metadata": {},
            "outputs": [
                {
                    "name": "stdout",
                    "output_type": "stream",
                    "text": [
                        "2022-08-04 11:26:57,423 - qm - INFO - Flags: \n",
                        "2022-08-04 11:26:57,424 - qm - INFO - Compiling program\n",
                        "Starting experimental run with id: 955. \n",
                        "2022-08-04 11:27:18,704 - qm - INFO - Sending pre-compiled program to QOP\n",
                        "30.0\n",
                        "31.191243171691895\n"
                    ]
                }
            ],
            "source": [
                "#qdac_2.BNC30(-0.1323)\n",
                "#qdac_2.BNC32(-0.520)\n",
                "#qdac_2.BNC34(-0.365)\n",
                "\n",
                "slow_steps = 100 #number of pixel along slow axis\n",
                "fast_steps = 100 #number of pixel along fast axis\n",
                "time_per_pixel = 0.003 # in seconds\n",
                "triggered_id = setup_buffered(steps=fast_steps*slow_steps)\n",
                "\n",
                "job=do2d_buffered(qdac_2.ch12,-0.190,-0.120, slow_steps, qdac_2.ch05, -0.18, -0.12, fast_steps,time_per_pixel, triggered_id)\n",
                "qdac_2.BNC29(-0.1267)\n",
                "qdac_2.BNC36(-0.1728)"
            ]
        },
        {
            "cell_type": "code",
            "execution_count": 13,
            "metadata": {},
            "outputs": [],
            "source": [
                "step_att.attenuation(36)"
            ]
        },
        {
            "cell_type": "code",
            "execution_count": 14,
            "metadata": {},
            "outputs": [
                {
                    "data": {
                        "text/plain": [
                            "-0.132296"
                        ]
                    },
                    "execution_count": 14,
                    "metadata": {},
                    "output_type": "execute_result"
                }
            ],
            "source": [
                "qdac_2.BNC30()"
            ]
        },
        {
            "cell_type": "code",
            "execution_count": 14,
            "metadata": {},
            "outputs": [
                {
                    "name": "stdout",
                    "output_type": "stream",
                    "text": [
                        "2022-08-04 12:03:07,040 - qm - INFO - Flags: \n",
                        "2022-08-04 12:03:07,041 - qm - INFO - Compiling program\n",
                        "Starting experimental run with id: 960. \n",
                        "2022-08-04 12:03:40,568 - qm - INFO - Sending pre-compiled program to QOP\n",
                        "30.0\n",
                        "31.92226791381836\n"
                    ]
                }
            ],
            "source": [
                "qdac_2.BNC30(-0.1323)\n",
                "#qdac_2.BNC32(-0.520)\n",
                "#qdac_2.BNC34(-0.365)\n",
                "\n",
                "slow_steps = 100 #number of pixel along slow axis\n",
                "fast_steps = 100 #number of pixel along fast axis\n",
                "time_per_pixel = 0.003 # in seconds\n",
                "triggered_id = setup_buffered(steps=fast_steps*slow_steps)\n",
                "\n",
                "job=do2d_buffered(qdac_2.ch12,-0.190,-0.120, slow_steps, qdac_2.ch05, -0.18, -0.12, fast_steps,time_per_pixel, triggered_id)\n",
                "qdac_2.BNC29(-0.1267)\n",
                "qdac_2.BNC36(-0.1728)"
            ]
        },
        {
            "cell_type": "code",
            "execution_count": 19,
            "metadata": {},
            "outputs": [],
            "source": [
                "ch2_DC_bias = -0.1275 #BNC29 in V\n",
                "ch1_DC_bias = -0.1735 #BNC36 in V\n",
                "\n",
                "ch2_DC_initialize = -0.1228 #BNC29 in V\n",
                "ch1_DC_initialize = -0.1858 #BNC36 in V\n",
                "\n",
                "qdac_2.BNC29(ch2_DC_bias)\n",
                "qdac_2.BNC36(ch1_DC_bias)"
            ]
        },
        {
            "cell_type": "code",
            "execution_count": 17,
            "metadata": {},
            "outputs": [],
            "source": [
                "step_att.attenuation(36)"
            ]
        },
        {
            "cell_type": "code",
            "execution_count": 15,
            "metadata": {},
            "outputs": [
                {
                    "name": "stdout",
                    "output_type": "stream",
                    "text": [
                        "Starting experimental run with id: 965. \n",
                        "2022-08-04 14:48:06,445 - qm - INFO - Sending pre-compiled program to QOP\n",
                        "30.0\n",
                        "31.110247135162354\n"
                    ]
                }
            ],
            "source": [
                "qdac_2.BNC30(-0.13225)\n",
                "#qdac_2.BNC32(-0.520)\n",
                "#qdac_2.BNC34(-0.365)\n",
                "\n",
                "slow_steps = 100 #number of pixel along slow axis\n",
                "fast_steps = 100 #number of pixel along fast axis\n",
                "time_per_pixel = 0.003 # in seconds\n",
                "#triggered_id = setup_buffered(steps=fast_steps*slow_steps)\n",
                "\n",
                "job=do2d_buffered(qdac_2.ch12,-0.190,-0.120, slow_steps, qdac_2.ch05, -0.18, -0.12, fast_steps,time_per_pixel, triggered_id)\n",
                "qdac_2.BNC29(-0.1267)\n",
                "qdac_2.BNC36(-0.1728)"
            ]
        },
        {
            "cell_type": "code",
            "execution_count": 16,
            "metadata": {},
            "outputs": [],
            "source": [
                "ch2_DC_bias = -0.1275 #BNC29 in V\n",
                "ch1_DC_bias = -0.1735 #BNC36 in V\n",
                "\n",
                "ch2_DC_initialize = -0.1228 #BNC29 in V\n",
                "ch1_DC_initialize = -0.1858 #BNC36 in V\n",
                "\n",
                "qdac_2.BNC29(ch2_DC_bias)\n",
                "qdac_2.BNC36(ch1_DC_bias)"
            ]
        },
        {
            "cell_type": "code",
            "execution_count": 19,
            "metadata": {},
            "outputs": [],
            "source": [
                "step_att.attenuation(36)"
            ]
        },
        {
            "cell_type": "code",
            "execution_count": 12,
            "metadata": {},
            "outputs": [
                {
                    "name": "stdout",
                    "output_type": "stream",
                    "text": [
                        "2022-08-04 18:24:00,157 - qm - INFO - Flags: \n",
                        "2022-08-04 18:24:00,158 - qm - INFO - Compiling program\n",
                        "Starting experimental run with id: 968. \n",
                        "2022-08-04 18:24:24,497 - qm - INFO - Sending pre-compiled program to QOP\n",
                        "30.0\n",
                        "31.151594638824463\n"
                    ]
                }
            ],
            "source": [
                "qdac_2.BNC30(-0.13225)\n",
                "#qdac_2.BNC32(-0.520)\n",
                "#qdac_2.BNC34(-0.365)\n",
                "\n",
                "slow_steps = 100 #number of pixel along slow axis\n",
                "fast_steps = 100 #number of pixel along fast axis\n",
                "time_per_pixel = 0.003 # in seconds\n",
                "triggered_id = setup_buffered(steps=fast_steps*slow_steps)\n",
                "\n",
                "job=do2d_buffered(qdac_2.ch12,-0.190,-0.120, slow_steps, qdac_2.ch05, -0.18, -0.12, fast_steps,time_per_pixel, triggered_id)\n",
                "qdac_2.BNC29(-0.1267)\n",
                "qdac_2.BNC36(-0.1728)"
            ]
        },
        {
            "cell_type": "code",
            "execution_count": 16,
            "metadata": {},
            "outputs": [],
            "source": [
                "ch2_DC_bias = -0.1279 #BNC29 in V\n",
                "ch1_DC_bias = -0.174 #BNC36 in V\n",
                "\n",
                "ch2_DC_initialize = -0.1228 #BNC29 in V\n",
                "ch1_DC_initialize = -0.1858 #BNC36 in V\n",
                "\n",
                "qdac_2.BNC29(ch2_DC_bias)\n",
                "qdac_2.BNC36(ch1_DC_bias)"
            ]
        },
        {
            "cell_type": "code",
            "execution_count": 12,
            "metadata": {},
            "outputs": [
                {
                    "name": "stdout",
                    "output_type": "stream",
                    "text": [
                        "2022-08-04 22:29:31,764 - qm - INFO - Flags: \n",
                        "2022-08-04 22:29:31,765 - qm - INFO - Compiling program\n",
                        "Starting experimental run with id: 969. \n",
                        "2022-08-04 22:29:56,861 - qm - INFO - Sending pre-compiled program to QOP\n",
                        "30.0\n",
                        "31.17161536216736\n"
                    ]
                }
            ],
            "source": [
                "#qdac_2.BNC30(-0.13225)\n",
                "#qdac_2.BNC32(-0.520)\n",
                "#qdac_2.BNC34(-0.365)\n",
                "\n",
                "slow_steps = 100 #number of pixel along slow axis\n",
                "fast_steps = 100 #number of pixel along fast axis\n",
                "time_per_pixel = 0.003 # in seconds\n",
                "triggered_id = setup_buffered(steps=fast_steps*slow_steps)\n",
                "\n",
                "job=do2d_buffered(qdac_2.ch12,-0.190,-0.120, slow_steps, qdac_2.ch05, -0.18, -0.12, fast_steps,time_per_pixel, triggered_id)\n",
                "qdac_2.BNC29(-0.1267)\n",
                "qdac_2.BNC36(-0.1728)"
            ]
        },
        {
            "cell_type": "code",
            "execution_count": 16,
            "metadata": {},
            "outputs": [],
            "source": [
                "ch2_DC_bias = -0.1264 #BNC29 in V\n",
                "ch1_DC_bias = -0.1742 #BNC36 in V\n",
                "\n",
                "ch2_DC_initialize =-0.1269 #BNC29 in V\n",
                "ch1_DC_initialize = -0.1771 #BNC36 in V\n",
                "\n",
                "qdac_2.BNC29(ch2_DC_bias)\n",
                "qdac_2.BNC36(ch1_DC_bias)"
            ]
        },
        {
            "cell_type": "markdown",
            "metadata": {},
            "source": [
                "# 5 Aug 2022"
            ]
        },
        {
            "cell_type": "code",
            "execution_count": 16,
            "metadata": {},
            "outputs": [
                {
                    "name": "stdout",
                    "output_type": "stream",
                    "text": [
                        "2022-08-05 09:18:55,759 - qm - INFO - Flags: \n",
                        "2022-08-05 09:18:55,760 - qm - INFO - Compiling program\n",
                        "Starting experimental run with id: 971. \n",
                        "2022-08-05 09:19:29,069 - qm - INFO - Sending pre-compiled program to QOP\n",
                        "30.0\n",
                        "31.307960510253906\n"
                    ]
                }
            ],
            "source": [
                "#qdac_2.BNC30(-0.13225)\n",
                "#qdac_2.BNC32(-0.520)\n",
                "#qdac_2.BNC34(-0.365)\n",
                "\n",
                "slow_steps = 100 #number of pixel along slow axis\n",
                "fast_steps = 100 #number of pixel along fast axis\n",
                "time_per_pixel = 0.003 # in seconds\n",
                "triggered_id = setup_buffered(steps=fast_steps*slow_steps)\n",
                "\n",
                "job=do2d_buffered(qdac_2.ch12,-0.190,-0.120, slow_steps, qdac_2.ch05, -0.18, -0.12, fast_steps,time_per_pixel, triggered_id)\n",
                "qdac_2.BNC29(-0.1267)\n",
                "qdac_2.BNC36(-0.1728)"
            ]
        },
        {
            "cell_type": "code",
            "execution_count": 18,
            "metadata": {},
            "outputs": [],
            "source": [
                "ch2_DC_bias = -0.1269 #BNC29 in V\n",
                "ch1_DC_bias = -0.1739 #BNC36 in V\n",
                "\n",
                "ch2_DC_initialize =-0.1261 #BNC29 in V\n",
                "ch1_DC_initialize = -0.1786 #BNC36 in V\n",
                "\n",
                "qdac_2.BNC29(ch2_DC_bias)\n",
                "qdac_2.BNC36(ch1_DC_bias)"
            ]
        },
        {
            "cell_type": "code",
            "execution_count": 12,
            "metadata": {},
            "outputs": [
                {
                    "name": "stdout",
                    "output_type": "stream",
                    "text": [
                        "2022-08-05 17:51:49,264 - qm - INFO - Flags: \n",
                        "2022-08-05 17:51:49,265 - qm - INFO - Compiling program\n",
                        "Starting experimental run with id: 975. \n",
                        "2022-08-05 17:52:18,766 - qm - INFO - Sending pre-compiled program to QOP\n",
                        "30.0\n",
                        "31.267558574676514\n"
                    ]
                }
            ],
            "source": [
                "#qdac_2.BNC30(-0.13225)\n",
                "#qdac_2.BNC32(-0.520)\n",
                "#qdac_2.BNC34(-0.365)\n",
                "\n",
                "slow_steps = 100 #number of pixel along slow axis\n",
                "fast_steps = 100 #number of pixel along fast axis\n",
                "time_per_pixel = 0.003 # in seconds\n",
                "triggered_id = setup_buffered(steps=fast_steps*slow_steps)\n",
                "\n",
                "job=do2d_buffered(qdac_2.ch12,-0.190,-0.120, slow_steps, qdac_2.ch05, -0.18, -0.12, fast_steps,time_per_pixel, triggered_id)\n",
                "qdac_2.BNC29(-0.1267)\n",
                "qdac_2.BNC36(-0.1728)"
            ]
        },
        {
            "cell_type": "code",
            "execution_count": 16,
            "metadata": {},
            "outputs": [],
            "source": [
                "gate_29_DC_bias = -0.1281 #BNC29 in V\n",
                "gate_36_DC_bias = -0.1735 #BNC36 in V\n",
                "\n",
                "gate_29_DC_initialize =-0.126 #BNC29 in V\n",
                "gate_36_DC_initialize = -0.1778 #BNC36 in V\n",
                "\n",
                "qdac_2.BNC29(gate_29_DC_bias)\n",
                "qdac_2.BNC36(gate_36_DC_bias)"
            ]
        },
        {
            "cell_type": "markdown",
            "metadata": {},
            "source": [
                "# 6 Aug 2022"
            ]
        },
        {
            "cell_type": "code",
            "execution_count": 12,
            "metadata": {},
            "outputs": [
                {
                    "name": "stdout",
                    "output_type": "stream",
                    "text": [
                        "2022-08-06 11:32:58,199 - qm - INFO - Flags: \n",
                        "2022-08-06 11:32:58,200 - qm - INFO - Compiling program\n",
                        "Starting experimental run with id: 978. \n",
                        "2022-08-06 11:33:27,913 - qm - INFO - Sending pre-compiled program to QOP\n",
                        "30.0\n",
                        "31.145816564559937\n"
                    ]
                }
            ],
            "source": [
                "#qdac_2.BNC30(-0.13225)\n",
                "#qdac_2.BNC32(-0.520)\n",
                "#qdac_2.BNC34(-0.365)\n",
                "\n",
                "slow_steps = 100 #number of pixel along slow axis\n",
                "fast_steps = 100 #number of pixel along fast axis\n",
                "time_per_pixel = 0.003 # in seconds\n",
                "triggered_id = setup_buffered(steps=fast_steps*slow_steps)\n",
                "\n",
                "job=do2d_buffered(qdac_2.ch12,-0.190,-0.120, slow_steps, qdac_2.ch05, -0.18, -0.12, fast_steps,time_per_pixel, triggered_id)\n",
                "qdac_2.BNC29(-0.1267)\n",
                "qdac_2.BNC36(-0.1728)"
            ]
        },
        {
            "cell_type": "code",
            "execution_count": 13,
            "metadata": {},
            "outputs": [],
            "source": [
                "gate_29_DC_bias = -0.1269 #BNC29 in V\n",
                "gate_36_DC_bias = -0.174 #BNC36 in V\n",
                "\n",
                "gate_29_DC_initialize =-0.1257 #BNC29 in V\n",
                "gate_36_DC_initialize = -0.1782 #BNC36 in V\n",
                "\n",
                "qdac_2.BNC29(gate_29_DC_bias)\n",
                "qdac_2.BNC36(gate_36_DC_bias)"
            ]
        },
        {
            "cell_type": "code",
            "execution_count": 11,
            "metadata": {},
            "outputs": [
                {
                    "name": "stdout",
                    "output_type": "stream",
                    "text": [
                        "2022-08-06 23:31:17,841 - qm - INFO - Flags: \n",
                        "2022-08-06 23:31:17,842 - qm - INFO - Compiling program\n",
                        "Starting experimental run with id: 998. \n",
                        "2022-08-06 23:31:46,989 - qm - INFO - Sending pre-compiled program to QOP\n",
                        "30.0\n",
                        "31.167484998703003\n"
                    ]
                }
            ],
            "source": [
                "#qdac_2.BNC30(-0.13225)\n",
                "#qdac_2.BNC32(-0.520)\n",
                "#qdac_2.BNC34(-0.365)\n",
                "\n",
                "slow_steps = 100 #number of pixel along slow axis\n",
                "fast_steps = 100 #number of pixel along fast axis\n",
                "time_per_pixel = 0.003 # in seconds\n",
                "triggered_id = setup_buffered(steps=fast_steps*slow_steps)\n",
                "\n",
                "job=do2d_buffered(qdac_2.ch12,-0.190,-0.120, slow_steps, qdac_2.ch05, -0.18, -0.12, fast_steps,time_per_pixel, triggered_id)\n",
                "qdac_2.BNC29(-0.1267)\n",
                "qdac_2.BNC36(-0.1728)"
            ]
        },
        {
            "cell_type": "code",
            "execution_count": 12,
            "metadata": {},
            "outputs": [],
            "source": [
                "gate_29_DC_bias = -0.1269 #BNC29 in V\n",
                "gate_36_DC_bias = -0.174 #BNC36 in V\n",
                "\n",
                "gate_29_DC_initialize =-0.1257 #BNC29 in V\n",
                "gate_36_DC_initialize = -0.1782 #BNC36 in V\n",
                "\n",
                "qdac_2.BNC29(gate_29_DC_bias)\n",
                "qdac_2.BNC36(gate_36_DC_bias)"
            ]
        },
        {
            "cell_type": "markdown",
            "metadata": {},
            "source": [
                "# 8 Aug 2022"
            ]
        },
        {
            "cell_type": "code",
            "execution_count": 12,
            "metadata": {},
            "outputs": [
                {
                    "name": "stdout",
                    "output_type": "stream",
                    "text": [
                        "2022-08-08 08:06:18,079 - qm - INFO - Flags: \n",
                        "2022-08-08 08:06:18,079 - qm - INFO - Compiling program\n",
                        "Starting experimental run with id: 1024. \n",
                        "2022-08-08 08:06:46,213 - qm - INFO - Sending pre-compiled program to QOP\n",
                        "30.0\n",
                        "31.103577852249146\n"
                    ]
                }
            ],
            "source": [
                "#qdac_2.BNC30(-0.13225)\n",
                "#qdac_2.BNC32(-0.520)\n",
                "#qdac_2.BNC34(-0.365)\n",
                "\n",
                "slow_steps = 100 #number of pixel along slow axis\n",
                "fast_steps = 100 #number of pixel along fast axis\n",
                "time_per_pixel = 0.003 # in seconds\n",
                "triggered_id = setup_buffered(steps=fast_steps*slow_steps)\n",
                "\n",
                "job=do2d_buffered(qdac_2.ch12,-0.190,-0.120, slow_steps, qdac_2.ch05, -0.18, -0.12, fast_steps,time_per_pixel, triggered_id)\n",
                "qdac_2.BNC29(-0.1267)\n",
                "qdac_2.BNC36(-0.1728)"
            ]
        },
        {
            "cell_type": "code",
            "execution_count": 13,
            "metadata": {},
            "outputs": [],
            "source": [
                "gate_29_DC_bias = -0.1269 #BNC29 in V\n",
                "gate_36_DC_bias = -0.174 #BNC36 in V\n",
                "\n",
                "gate_29_DC_initialize =-0.1267 #BNC29 in V\n",
                "gate_36_DC_initialize = -0.1759 #BNC36 in V\n",
                "\n",
                "qdac_2.BNC29(gate_29_DC_bias)\n",
                "qdac_2.BNC36(gate_36_DC_bias)"
            ]
        },
        {
            "cell_type": "code",
            "execution_count": 12,
            "metadata": {},
            "outputs": [
                {
                    "name": "stdout",
                    "output_type": "stream",
                    "text": [
                        "2022-08-08 13:19:43,665 - qm - INFO - Flags: \n",
                        "2022-08-08 13:19:43,665 - qm - INFO - Compiling program\n",
                        "Starting experimental run with id: 1026. \n",
                        "2022-08-08 13:20:16,814 - qm - INFO - Sending pre-compiled program to QOP\n",
                        "30.0\n",
                        "31.211599588394165\n"
                    ]
                }
            ],
            "source": [
                "#qdac_2.BNC30(-0.13225)\n",
                "#qdac_2.BNC32(-0.520)\n",
                "#qdac_2.BNC34(-0.365)\n",
                "\n",
                "slow_steps = 100 #number of pixel along slow axis\n",
                "fast_steps = 100 #number of pixel along fast axis\n",
                "time_per_pixel = 0.003 # in seconds\n",
                "triggered_id = setup_buffered(steps=fast_steps*slow_steps)\n",
                "\n",
                "job=do2d_buffered(qdac_2.ch12,-0.190,-0.120, slow_steps, qdac_2.ch05, -0.18, -0.12, fast_steps,time_per_pixel, triggered_id)\n",
                "qdac_2.BNC29(-0.1267)\n",
                "qdac_2.BNC36(-0.1728)"
            ]
        },
        {
            "cell_type": "code",
            "execution_count": 15,
            "metadata": {},
            "outputs": [],
            "source": [
                "gate_29_DC_bias = -0.1269 #BNC29 in V\n",
                "gate_36_DC_bias = -0.174 #BNC36 in V\n",
                "\n",
                "gate_29_DC_initialize =-0.1267 #BNC29 in V\n",
                "gate_36_DC_initialize = -0.1759 #BNC36 in V\n",
                "\n",
                "qdac_2.BNC29(gate_29_DC_bias)\n",
                "qdac_2.BNC36(gate_36_DC_bias)"
            ]
        },
        {
            "cell_type": "code",
            "execution_count": 14,
            "metadata": {},
            "outputs": [],
            "source": [
                "qdac_2.BNC29(-0.150)\n",
                "qdac_2.BNC36(-0.154)"
            ]
        },
        {
            "cell_type": "code",
            "execution_count": null,
            "metadata": {},
            "outputs": [],
            "source": [
                "gate_29_DC_bias = -0.1269 #BNC29 in V\n",
                "gate_36_DC_bias = -0.174 #BNC36 in V\n",
                "\n",
                "gate_29_DC_initialize =-0.1267 #BNC29 in V\n",
                "gate_36_DC_initialize = -0.1759 #BNC36 in V\n",
                "\n",
                "qdac_2.BNC29(gate_29_DC_bias)\n",
                "qdac_2.BNC36(gate_36_DC_bias)"
            ]
        },
        {
            "cell_type": "code",
            "execution_count": 11,
            "metadata": {},
            "outputs": [
                {
                    "name": "stdout",
                    "output_type": "stream",
                    "text": [
                        "2022-08-08 15:08:07,945 - qm - INFO - Flags: \n",
                        "2022-08-08 15:08:07,946 - qm - INFO - Compiling program\n",
                        "Starting experimental run with id: 1027. \n",
                        "2022-08-08 15:08:35,898 - qm - INFO - Sending pre-compiled program to QOP\n",
                        "30.0\n",
                        "31.07412338256836\n"
                    ]
                }
            ],
            "source": [
                "#qdac_2.BNC30(-0.13225)\n",
                "#qdac_2.BNC32(-0.520)\n",
                "#qdac_2.BNC34(-0.365)\n",
                "\n",
                "slow_steps = 100 #number of pixel along slow axis\n",
                "fast_steps = 100 #number of pixel along fast axis\n",
                "time_per_pixel = 0.003 # in seconds\n",
                "triggered_id = setup_buffered(steps=fast_steps*slow_steps)\n",
                "\n",
                "job=do2d_buffered(qdac_2.ch12,-0.190,-0.120, slow_steps, qdac_2.ch05, -0.18, -0.12, fast_steps,time_per_pixel, triggered_id)\n",
                "qdac_2.BNC29(-0.1267)\n",
                "qdac_2.BNC36(-0.1728)"
            ]
        },
        {
            "cell_type": "code",
            "execution_count": 12,
            "metadata": {},
            "outputs": [
                {
                    "data": {
                        "text/plain": [
                            "-0.132258"
                        ]
                    },
                    "execution_count": 12,
                    "metadata": {},
                    "output_type": "execute_result"
                }
            ],
            "source": [
                "qdac_2.BNC30()"
            ]
        },
        {
            "cell_type": "code",
            "execution_count": 13,
            "metadata": {},
            "outputs": [
                {
                    "name": "stdout",
                    "output_type": "stream",
                    "text": [
                        "2022-08-09 14:32:53,156 - qm - INFO - Flags: \n",
                        "2022-08-09 14:32:53,157 - qm - INFO - Compiling program\n",
                        "Starting experimental run with id: 1029. \n",
                        "2022-08-09 14:33:22,070 - qm - INFO - Sending pre-compiled program to QOP\n",
                        "30.0\n",
                        "31.298847913742065\n"
                    ]
                }
            ],
            "source": [
                "#qdac_2.BNC30(-0.1321)\n",
                "#qdac_2.BNC32(-0.520)\n",
                "#qdac_2.BNC34(-0.365)\n",
                "\n",
                "slow_steps = 100 #number of pixel along slow axis\n",
                "fast_steps = 100 #number of pixel along fast axis\n",
                "time_per_pixel = 0.003 # in seconds\n",
                "triggered_id = setup_buffered(steps=fast_steps*slow_steps)\n",
                "\n",
                "job=do2d_buffered(qdac_2.ch12,-0.190,-0.120, slow_steps, qdac_2.ch05, -0.18, -0.12, fast_steps,time_per_pixel, triggered_id)\n",
                "qdac_2.BNC29(-0.1267)\n",
                "qdac_2.BNC36(-0.1728)"
            ]
        },
        {
            "cell_type": "code",
            "execution_count": 14,
            "metadata": {},
            "outputs": [],
            "source": [
                "gate_29_DC_bias = -0.1269 #BNC29 in V\n",
                "gate_36_DC_bias = -0.174 #BNC36 in V\n",
                "\n",
                "gate_29_DC_initialize =-0.1267 #BNC29 in V\n",
                "gate_36_DC_initialize = -0.1759 #BNC36 in V\n",
                "\n",
                "qdac_2.BNC29(gate_29_DC_bias)\n",
                "qdac_2.BNC36(gate_36_DC_bias)"
            ]
        },
        {
            "cell_type": "markdown",
            "metadata": {},
            "source": [
                "# 9 Aug 2022"
            ]
        },
        {
            "cell_type": "code",
            "execution_count": 14,
            "metadata": {},
            "outputs": [
                {
                    "data": {
                        "text/plain": [
                            "-0.132105"
                        ]
                    },
                    "execution_count": 14,
                    "metadata": {},
                    "output_type": "execute_result"
                }
            ],
            "source": [
                "qdac_2.BNC30()"
            ]
        },
        {
            "cell_type": "code",
            "execution_count": 15,
            "metadata": {},
            "outputs": [
                {
                    "name": "stdout",
                    "output_type": "stream",
                    "text": [
                        "2022-08-09 14:40:05,485 - qm - INFO - Flags: \n",
                        "2022-08-09 14:40:05,487 - qm - INFO - Compiling program\n",
                        "Starting experimental run with id: 1030. \n",
                        "2022-08-09 14:40:26,776 - qm - INFO - Sending pre-compiled program to QOP\n",
                        "30.0\n",
                        "31.021841287612915\n"
                    ]
                }
            ],
            "source": [
                "qdac_2.BNC30(-0.132)\n",
                "#qdac_2.BNC32(-0.520)\n",
                "#qdac_2.BNC34(-0.365)\n",
                "\n",
                "slow_steps = 100 #number of pixel along slow axis\n",
                "fast_steps = 100 #number of pixel along fast axis\n",
                "time_per_pixel = 0.003 # in seconds\n",
                "triggered_id = setup_buffered(steps=fast_steps*slow_steps)\n",
                "\n",
                "job=do2d_buffered(qdac_2.ch12,-0.190,-0.120, slow_steps, qdac_2.ch05, -0.18, -0.12, fast_steps,time_per_pixel, triggered_id)\n",
                "qdac_2.BNC29(-0.1267)\n",
                "qdac_2.BNC36(-0.1728)"
            ]
        },
        {
            "cell_type": "code",
            "execution_count": 16,
            "metadata": {},
            "outputs": [
                {
                    "name": "stdout",
                    "output_type": "stream",
                    "text": [
                        "2022-08-09 14:41:28,010 - qm - INFO - Flags: \n",
                        "2022-08-09 14:41:28,011 - qm - INFO - Compiling program\n",
                        "Starting experimental run with id: 1031. \n",
                        "2022-08-09 14:41:49,065 - qm - INFO - Sending pre-compiled program to QOP\n",
                        "30.0\n",
                        "31.119899034500122\n"
                    ]
                }
            ],
            "source": [
                "qdac_2.BNC30(-0.13205)\n",
                "#qdac_2.BNC32(-0.520)\n",
                "#qdac_2.BNC34(-0.365)\n",
                "\n",
                "slow_steps = 100 #number of pixel along slow axis\n",
                "fast_steps = 100 #number of pixel along fast axis\n",
                "time_per_pixel = 0.003 # in seconds\n",
                "triggered_id = setup_buffered(steps=fast_steps*slow_steps)\n",
                "\n",
                "job=do2d_buffered(qdac_2.ch12,-0.190,-0.120, slow_steps, qdac_2.ch05, -0.18, -0.12, fast_steps,time_per_pixel, triggered_id)\n",
                "qdac_2.BNC29(-0.1267)\n",
                "qdac_2.BNC36(-0.1728)"
            ]
        },
        {
            "cell_type": "code",
            "execution_count": 19,
            "metadata": {},
            "outputs": [],
            "source": [
                "gate_29_DC_bias = -0.1277 #BNC29 in V\n",
                "gate_36_DC_bias = -0.1738 #BNC36 in V\n",
                "\n",
                "gate_29_DC_initialize =-0.1257 #BNC29 in V\n",
                "gate_36_DC_initialize = -0.1773 #BNC36 in V\n",
                "\n",
                "qdac_2.BNC29(gate_29_DC_bias)\n",
                "qdac_2.BNC36(gate_36_DC_bias)"
            ]
        },
        {
            "cell_type": "markdown",
            "metadata": {},
            "source": [
                "# 10 Aug 2022"
            ]
        },
        {
            "cell_type": "code",
            "execution_count": 12,
            "metadata": {},
            "outputs": [
                {
                    "name": "stdout",
                    "output_type": "stream",
                    "text": [
                        "2022-08-10 08:43:49,216 - qm - INFO - Flags: \n",
                        "2022-08-10 08:43:49,218 - qm - INFO - Compiling program\n",
                        "Starting experimental run with id: 1033. \n",
                        "2022-08-10 08:44:18,426 - qm - INFO - Sending pre-compiled program to QOP\n",
                        "30.0\n",
                        "31.172198057174683\n"
                    ]
                }
            ],
            "source": [
                "#qdac_2.BNC30(-0.13205)\n",
                "#qdac_2.BNC32(-0.520)\n",
                "#qdac_2.BNC34(-0.365)\n",
                "\n",
                "slow_steps = 100 #number of pixel along slow axis\n",
                "fast_steps = 100 #number of pixel along fast axis\n",
                "time_per_pixel = 0.003 # in seconds\n",
                "triggered_id = setup_buffered(steps=fast_steps*slow_steps)\n",
                "\n",
                "job=do2d_buffered(qdac_2.ch12,-0.190,-0.120, slow_steps, qdac_2.ch05, -0.18, -0.12, fast_steps,time_per_pixel, triggered_id)\n",
                "qdac_2.BNC29(-0.1267)\n",
                "qdac_2.BNC36(-0.1728)"
            ]
        },
        {
            "cell_type": "code",
            "execution_count": 14,
            "metadata": {},
            "outputs": [],
            "source": [
                "gate_29_DC_bias = -0.1264 #BNC29 in V\n",
                "gate_36_DC_bias = -0.1738 #BNC36 in V\n",
                "\n",
                "gate_29_DC_initialize =-0.1257 #BNC29 in V\n",
                "gate_36_DC_initialize = -0.1778 #BNC36 in V\n",
                "\n",
                "qdac_2.BNC29(gate_29_DC_bias)\n",
                "qdac_2.BNC36(gate_36_DC_bias)"
            ]
        },
        {
            "cell_type": "code",
            "execution_count": 12,
            "metadata": {},
            "outputs": [
                {
                    "name": "stdout",
                    "output_type": "stream",
                    "text": [
                        "2022-08-10 16:01:49,293 - qm - INFO - Flags: \n",
                        "2022-08-10 16:01:49,294 - qm - INFO - Compiling program\n",
                        "Starting experimental run with id: 1034. \n",
                        "2022-08-10 16:02:20,062 - qm - INFO - Sending pre-compiled program to QOP\n",
                        "30.0\n",
                        "31.10712456703186\n"
                    ]
                }
            ],
            "source": [
                "#qdac_2.BNC30(-0.13205)\n",
                "#qdac_2.BNC32(-0.520)\n",
                "#qdac_2.BNC34(-0.365)\n",
                "\n",
                "slow_steps = 100 #number of pixel along slow axis\n",
                "fast_steps = 100 #number of pixel along fast axis\n",
                "time_per_pixel = 0.003 # in seconds\n",
                "triggered_id = setup_buffered(steps=fast_steps*slow_steps)\n",
                "\n",
                "job=do2d_buffered(qdac_2.ch12,-0.190,-0.120, slow_steps, qdac_2.ch05, -0.18, -0.12, fast_steps,time_per_pixel, triggered_id)\n",
                "qdac_2.BNC29(-0.1267)\n",
                "qdac_2.BNC36(-0.1728)"
            ]
        },
        {
            "cell_type": "code",
            "execution_count": 13,
            "metadata": {},
            "outputs": [
                {
                    "data": {
                        "text/plain": [
                            "-0.132048"
                        ]
                    },
                    "execution_count": 13,
                    "metadata": {},
                    "output_type": "execute_result"
                }
            ],
            "source": [
                "qdac_2.BNC30()\n"
            ]
        },
        {
            "cell_type": "code",
            "execution_count": 14,
            "metadata": {},
            "outputs": [
                {
                    "name": "stdout",
                    "output_type": "stream",
                    "text": [
                        "Starting experimental run with id: 1035. \n",
                        "2022-08-10 16:03:41,555 - qm - INFO - Sending pre-compiled program to QOP\n",
                        "30.0\n",
                        "31.11363911628723\n"
                    ]
                }
            ],
            "source": [
                "qdac_2.BNC30(-0.1319)\n",
                "#qdac_2.BNC32(-0.520)\n",
                "#qdac_2.BNC34(-0.365)\n",
                "\n",
                "slow_steps = 100 #number of pixel along slow axis\n",
                "fast_steps = 100 #number of pixel along fast axis\n",
                "time_per_pixel = 0.003 # in seconds\n",
                "#triggered_id = setup_buffered(steps=fast_steps*slow_steps)\n",
                "\n",
                "job=do2d_buffered(qdac_2.ch12,-0.190,-0.120, slow_steps, qdac_2.ch05, -0.18, -0.12, fast_steps,time_per_pixel, triggered_id)\n",
                "qdac_2.BNC29(-0.1267)\n",
                "qdac_2.BNC36(-0.1728)"
            ]
        },
        {
            "cell_type": "code",
            "execution_count": 15,
            "metadata": {},
            "outputs": [],
            "source": [
                "gate_29_DC_bias = -0.1264 #BNC29 in V\n",
                "gate_36_DC_bias = -0.1738 #BNC36 in V\n",
                "\n",
                "gate_29_DC_initialize =-0.1257 #BNC29 in V\n",
                "gate_36_DC_initialize = -0.1778 #BNC36 in V\n",
                "\n",
                "qdac_2.BNC29(gate_29_DC_bias)\n",
                "qdac_2.BNC36(gate_36_DC_bias)"
            ]
        },
        {
            "cell_type": "markdown",
            "metadata": {},
            "source": [
                "# 13 Aug 2022"
            ]
        },
        {
            "cell_type": "code",
            "execution_count": 18,
            "metadata": {},
            "outputs": [
                {
                    "name": "stdout",
                    "output_type": "stream",
                    "text": [
                        "2022-08-13 12:34:15,502 - qm - INFO - Flags: \n",
                        "2022-08-13 12:34:15,503 - qm - INFO - Compiling program\n",
                        "Starting experimental run with id: 1060. \n",
                        "2022-08-13 12:34:49,821 - qm - INFO - Sending pre-compiled program to QOP\n",
                        "30.0\n",
                        "31.263610363006592\n"
                    ]
                }
            ],
            "source": [
                "#qdac_2.BNC30(-0.1319)\n",
                "#qdac_2.BNC32(-0.520)\n",
                "#qdac_2.BNC34(-0.365)\n",
                "\n",
                "slow_steps = 100 #number of pixel along slow axis\n",
                "fast_steps = 100 #number of pixel along fast axis\n",
                "time_per_pixel = 0.003 # in seconds\n",
                "triggered_id = setup_buffered(steps=fast_steps*slow_steps)\n",
                "\n",
                "job=do2d_buffered(qdac_2.ch12,-0.190,-0.120, slow_steps, qdac_2.ch05, -0.18, -0.12, fast_steps,time_per_pixel, triggered_id)\n",
                "qdac_2.BNC29(-0.1267)\n",
                "qdac_2.BNC36(-0.1728)"
            ]
        },
        {
            "cell_type": "code",
            "execution_count": null,
            "metadata": {},
            "outputs": [],
            "source": [
                "gate_29_DC_bias = -0.1264 #BNC29 in V\n",
                "gate_36_DC_bias = -0.1738 #BNC36 in V\n",
                "\n",
                "gate_29_DC_initialize =-0.1257 #BNC29 in V\n",
                "gate_36_DC_initialize = -0.1778 #BNC36 in V\n",
                "\n",
                "qdac_2.BNC29(gate_29_DC_bias)\n",
                "qdac_2.BNC36(gate_36_DC_bias)"
            ]
        },
        {
            "cell_type": "code",
            "execution_count": 19,
            "metadata": {},
            "outputs": [
                {
                    "data": {
                        "text/plain": [
                            "-0.131895"
                        ]
                    },
                    "execution_count": 19,
                    "metadata": {},
                    "output_type": "execute_result"
                }
            ],
            "source": [
                "qdac_2.BNC30()"
            ]
        },
        {
            "cell_type": "code",
            "execution_count": 20,
            "metadata": {},
            "outputs": [
                {
                    "name": "stdout",
                    "output_type": "stream",
                    "text": [
                        "Starting experimental run with id: 1061. \n",
                        "2022-08-13 12:36:04,256 - qm - INFO - Sending pre-compiled program to QOP\n",
                        "30.0\n",
                        "30.983752250671387\n"
                    ]
                }
            ],
            "source": [
                "qdac_2.BNC30(-0.1318)\n",
                "#qdac_2.BNC32(-0.520)\n",
                "#qdac_2.BNC34(-0.365)\n",
                "\n",
                "slow_steps = 100 #number of pixel along slow axis\n",
                "fast_steps = 100 #number of pixel along fast axis\n",
                "time_per_pixel = 0.003 # in seconds\n",
                "#triggered_id = setup_buffered(steps=fast_steps*slow_steps)\n",
                "\n",
                "job=do2d_buffered(qdac_2.ch12,-0.190,-0.120, slow_steps, qdac_2.ch05, -0.18, -0.12, fast_steps,time_per_pixel, triggered_id)\n",
                "qdac_2.BNC29(-0.1267)\n",
                "qdac_2.BNC36(-0.1728)"
            ]
        },
        {
            "cell_type": "code",
            "execution_count": 21,
            "metadata": {},
            "outputs": [],
            "source": [
                "gate_29_DC_bias = -0.1261 #BNC29 in V\n",
                "gate_36_DC_bias = -0.1728 #BNC36 in V\n",
                "\n",
                "gate_29_DC_initialize =-0.1255 #BNC29 in V\n",
                "gate_36_DC_initialize = -0.1752 #BNC36 in V\n",
                "\n",
                "qdac_2.BNC29(gate_29_DC_bias)\n",
                "qdac_2.BNC36(gate_36_DC_bias)"
            ]
        },
        {
            "cell_type": "code",
            "execution_count": 12,
            "metadata": {},
            "outputs": [
                {
                    "name": "stdout",
                    "output_type": "stream",
                    "text": [
                        "2022-08-13 18:07:06,767 - qm - INFO - Flags: \n",
                        "2022-08-13 18:07:06,768 - qm - INFO - Compiling program\n",
                        "Starting experimental run with id: 1067. \n",
                        "2022-08-13 18:07:38,991 - qm - INFO - Sending pre-compiled program to QOP\n",
                        "30.0\n",
                        "31.17874050140381\n"
                    ]
                }
            ],
            "source": [
                "qdac_2.BNC30(-0.132)\n",
                "#qdac_2.BNC32(-0.520)\n",
                "#qdac_2.BNC34(-0.365)\n",
                "\n",
                "slow_steps = 100 #number of pixel along slow axis\n",
                "fast_steps = 100 #number of pixel along fast axis\n",
                "time_per_pixel = 0.003 # in seconds\n",
                "triggered_id = setup_buffered(steps=fast_steps*slow_steps)\n",
                "\n",
                "job=do2d_buffered(qdac_2.ch12,-0.190,-0.120, slow_steps, qdac_2.ch05, -0.18, -0.12, fast_steps,time_per_pixel, triggered_id)\n",
                "qdac_2.BNC29(-0.1267)\n",
                "qdac_2.BNC36(-0.1728)"
            ]
        },
        {
            "cell_type": "code",
            "execution_count": 13,
            "metadata": {},
            "outputs": [],
            "source": [
                "gate_29_DC_bias = -0.1261 #BNC29 in V\n",
                "gate_36_DC_bias = -0.1728 #BNC36 in V\n",
                "\n",
                "gate_29_DC_initialize =-0.1255 #BNC29 in V\n",
                "gate_36_DC_initialize = -0.1752 #BNC36 in V\n",
                "\n",
                "qdac_2.BNC29(gate_29_DC_bias)\n",
                "qdac_2.BNC36(gate_36_DC_bias)"
            ]
        },
        {
            "cell_type": "code",
            "execution_count": 14,
            "metadata": {},
            "outputs": [],
            "source": [
                "qdac_2.BNC30(-0.1318)\n"
            ]
        },
        {
            "cell_type": "code",
            "execution_count": 15,
            "metadata": {},
            "outputs": [],
            "source": [
                "gate_29_DC_bias = -0.1261 #BNC29 in V\n",
                "gate_36_DC_bias = -0.1728 #BNC36 in V\n",
                "\n",
                "gate_29_DC_initialize =-0.1255 #BNC29 in V\n",
                "gate_36_DC_initialize = -0.1752 #BNC36 in V\n",
                "\n",
                "qdac_2.BNC29(gate_29_DC_bias)\n",
                "qdac_2.BNC36(gate_36_DC_bias)"
            ]
        },
        {
            "cell_type": "code",
            "execution_count": 12,
            "metadata": {},
            "outputs": [
                {
                    "name": "stdout",
                    "output_type": "stream",
                    "text": [
                        "2022-08-14 10:54:03,647 - qm - INFO - Flags: \n",
                        "2022-08-14 10:54:03,648 - qm - INFO - Compiling program\n",
                        "Starting experimental run with id: 1069. \n",
                        "2022-08-14 10:54:32,872 - qm - INFO - Sending pre-compiled program to QOP\n",
                        "30.0\n",
                        "31.219451189041138\n"
                    ]
                }
            ],
            "source": [
                "#qdac_2.BNC30(-0.132)\n",
                "#qdac_2.BNC32(-0.520)\n",
                "#qdac_2.BNC34(-0.365)\n",
                "\n",
                "slow_steps = 100 #number of pixel along slow axis\n",
                "fast_steps = 100 #number of pixel along fast axis\n",
                "time_per_pixel = 0.003 # in seconds\n",
                "triggered_id = setup_buffered(steps=fast_steps*slow_steps)\n",
                "\n",
                "job=do2d_buffered(qdac_2.ch12,-0.190,-0.120, slow_steps, qdac_2.ch05, -0.18, -0.12, fast_steps,time_per_pixel, triggered_id)\n",
                "qdac_2.BNC29(-0.1267)\n",
                "qdac_2.BNC36(-0.1728)"
            ]
        },
        {
            "cell_type": "code",
            "execution_count": 13,
            "metadata": {},
            "outputs": [
                {
                    "data": {
                        "text/plain": [
                            "-0.1318"
                        ]
                    },
                    "execution_count": 13,
                    "metadata": {},
                    "output_type": "execute_result"
                }
            ],
            "source": [
                "qdac_2.BNC30()"
            ]
        },
        {
            "cell_type": "code",
            "execution_count": 14,
            "metadata": {},
            "outputs": [
                {
                    "name": "stdout",
                    "output_type": "stream",
                    "text": [
                        "Starting experimental run with id: 1070. \n",
                        "2022-08-14 10:55:33,847 - qm - INFO - Sending pre-compiled program to QOP\n",
                        "30.0\n",
                        "31.104364156723022\n"
                    ]
                }
            ],
            "source": [
                "qdac_2.BNC30(-0.132)\n",
                "#qdac_2.BNC32(-0.520)\n",
                "#qdac_2.BNC34(-0.365)\n",
                "\n",
                "slow_steps = 100 #number of pixel along slow axis\n",
                "fast_steps = 100 #number of pixel along fast axis\n",
                "time_per_pixel = 0.003 # in seconds\n",
                "#triggered_id = setup_buffered(steps=fast_steps*slow_steps)\n",
                "\n",
                "job=do2d_buffered(qdac_2.ch12,-0.190,-0.120, slow_steps, qdac_2.ch05, -0.18, -0.12, fast_steps,time_per_pixel, triggered_id)\n",
                "qdac_2.BNC29(-0.1267)\n",
                "qdac_2.BNC36(-0.1728)"
            ]
        },
        {
            "cell_type": "code",
            "execution_count": 15,
            "metadata": {},
            "outputs": [],
            "source": [
                "gate_29_DC_bias = -0.12785 #BNC29 in V\n",
                "gate_36_DC_bias = -0.1739 #BNC36 in V\n",
                "\n",
                "# gate_29_DC_initialize =-0.1255 #BNC29 in V\n",
                "# gate_36_DC_initialize = -0.1752 #BNC36 in V\n",
                "\n",
                "qdac_2.BNC29(gate_29_DC_bias)\n",
                "qdac_2.BNC36(gate_36_DC_bias)"
            ]
        },
        {
            "cell_type": "markdown",
            "metadata": {},
            "source": [
                "after running metastable 2D map "
            ]
        },
        {
            "cell_type": "code",
            "execution_count": 18,
            "metadata": {},
            "outputs": [],
            "source": [
                "gate_29_DC_bias = -0.12785 #BNC29 in V\n",
                "gate_36_DC_bias = -0.1739  #BNC36 in V\n",
                "\n",
                "gate_29_DC_initialize = gate_29_DC_bias #BNC29 in V\n",
                "gate_36_DC_initialize = gate_29_DC_bias #BNC36 in V\n",
                "\n",
                "qdac_2.BNC29(gate_29_DC_bias)\n",
                "qdac_2.BNC36(gate_36_DC_bias)"
            ]
        },
        {
            "cell_type": "code",
            "execution_count": 12,
            "metadata": {},
            "outputs": [
                {
                    "name": "stdout",
                    "output_type": "stream",
                    "text": [
                        "2022-08-14 12:12:31,921 - qm - INFO - Flags: \n",
                        "2022-08-14 12:12:31,922 - qm - INFO - Compiling program\n",
                        "Starting experimental run with id: 1073. \n",
                        "2022-08-14 12:13:00,716 - qm - INFO - Sending pre-compiled program to QOP\n",
                        "30.0\n",
                        "31.069989919662476\n"
                    ]
                }
            ],
            "source": [
                "#qdac_2.BNC30(-0.132)\n",
                "#qdac_2.BNC32(-0.520)\n",
                "#qdac_2.BNC34(-0.365)\n",
                "\n",
                "slow_steps = 100 #number of pixel along slow axis\n",
                "fast_steps = 100 #number of pixel along fast axis\n",
                "time_per_pixel = 0.003 # in seconds\n",
                "triggered_id = setup_buffered(steps=fast_steps*slow_steps)\n",
                "\n",
                "job=do2d_buffered(qdac_2.ch12,-0.190,-0.120, slow_steps, qdac_2.ch05, -0.18, -0.12, fast_steps,time_per_pixel, triggered_id)\n",
                "qdac_2.BNC29(-0.1267)\n",
                "qdac_2.BNC36(-0.1728)"
            ]
        },
        {
            "cell_type": "code",
            "execution_count": 16,
            "metadata": {},
            "outputs": [],
            "source": [
                "gate_29_DC_bias = -0.1269 #BNC29 in V\n",
                "gate_36_DC_bias = -0.1733  #BNC36 in V\n",
                "\n",
                "gate_29_DC_initialize = -0.1263 #BNC29 in V\n",
                "gate_36_DC_initialize = -0.1759 #BNC36 in V\n",
                "\n",
                "qdac_2.BNC29(gate_29_DC_bias)\n",
                "qdac_2.BNC36(gate_36_DC_bias)"
            ]
        },
        {
            "cell_type": "markdown",
            "metadata": {},
            "source": [
                "# 15 Aug 2022"
            ]
        },
        {
            "cell_type": "code",
            "execution_count": 12,
            "metadata": {},
            "outputs": [
                {
                    "name": "stdout",
                    "output_type": "stream",
                    "text": [
                        "2022-08-15 17:19:19,863 - qm - INFO - Flags: \n",
                        "2022-08-15 17:19:19,864 - qm - INFO - Compiling program\n",
                        "Starting experimental run with id: 1074. \n",
                        "2022-08-15 17:19:50,073 - qm - INFO - Sending pre-compiled program to QOP\n",
                        "30.0\n",
                        "31.190763235092163\n"
                    ]
                }
            ],
            "source": [
                "#qdac_2.BNC30(-0.132)\n",
                "#qdac_2.BNC32(-0.520)\n",
                "#qdac_2.BNC34(-0.365)\n",
                "\n",
                "slow_steps = 100 #number of pixel along slow axis\n",
                "fast_steps = 100 #number of pixel along fast axis\n",
                "time_per_pixel = 0.003 # in seconds\n",
                "triggered_id = setup_buffered(steps=fast_steps*slow_steps)\n",
                "\n",
                "job=do2d_buffered(qdac_2.ch12,-0.190,-0.120, slow_steps, qdac_2.ch05, -0.18, -0.12, fast_steps,time_per_pixel, triggered_id)\n",
                "gate_29_DC_bias = -0.1269 #BNC29 in V\n",
                "gate_36_DC_bias = -0.1733  #BNC36 in V"
            ]
        },
        {
            "cell_type": "code",
            "execution_count": 13,
            "metadata": {},
            "outputs": [
                {
                    "data": {
                        "text/plain": [
                            "-0.131991"
                        ]
                    },
                    "execution_count": 13,
                    "metadata": {},
                    "output_type": "execute_result"
                }
            ],
            "source": [
                "qdac_2.BNC30()\n"
            ]
        },
        {
            "cell_type": "code",
            "execution_count": 14,
            "metadata": {},
            "outputs": [
                {
                    "name": "stdout",
                    "output_type": "stream",
                    "text": [
                        "Starting experimental run with id: 1075. \n",
                        "2022-08-15 17:39:19,229 - qm - INFO - Sending pre-compiled program to QOP\n",
                        "30.0\n",
                        "30.977296113967896\n"
                    ]
                }
            ],
            "source": [
                "qdac_2.BNC30(-0.1319)\n",
                "#qdac_2.BNC32(-0.520)\n",
                "#qdac_2.BNC34(-0.365)\n",
                "\n",
                "slow_steps = 100 #number of pixel along slow axis\n",
                "fast_steps = 100 #number of pixel along fast axis\n",
                "time_per_pixel = 0.003 # in seconds\n",
                "#triggered_id = setup_buffered(steps=fast_steps*slow_steps)\n",
                "\n",
                "job=do2d_buffered(qdac_2.ch12,-0.190,-0.120, slow_steps, qdac_2.ch05, -0.18, -0.12, fast_steps,time_per_pixel, triggered_id)\n",
                "gate_29_DC_bias = -0.1269 #BNC29 in V\n",
                "gate_36_DC_bias = -0.1733  #BNC36 in V"
            ]
        },
        {
            "cell_type": "code",
            "execution_count": 15,
            "metadata": {},
            "outputs": [],
            "source": [
                "gate_29_DC_bias = -0.12671 #BNC29 in V\n",
                "gate_36_DC_bias = -0.1731  #BNC36 in V\n",
                "\n",
                "gate_29_DC_initialize = -0.1263 #BNC29 in V\n",
                "gate_36_DC_initialize = -0.1747 #BNC36 in V\n",
                "\n",
                "qdac_2.BNC29(gate_29_DC_bias)\n",
                "qdac_2.BNC36(gate_36_DC_bias)"
            ]
        },
        {
            "cell_type": "code",
            "execution_count": 16,
            "metadata": {},
            "outputs": [],
            "source": [
                "gate_29_DC_bias = -0.1271 #BNC29 in V\n",
                "gate_36_DC_bias = -0.1735  #BNC36 in V\n",
                "\n",
                "gate_29_DC_initialize = -0.1263 #BNC29 in V\n",
                "gate_36_DC_initialize = -0.1747 #BNC36 in V\n",
                "\n",
                "qdac_2.BNC29(gate_29_DC_bias)\n",
                "qdac_2.BNC36(gate_36_DC_bias)"
            ]
        },
        {
            "cell_type": "markdown",
            "metadata": {},
            "source": [
                "# 17 Aug 2022"
            ]
        },
        {
            "cell_type": "code",
            "execution_count": 11,
            "metadata": {},
            "outputs": [
                {
                    "data": {
                        "text/plain": [
                            "-0.365005"
                        ]
                    },
                    "execution_count": 11,
                    "metadata": {},
                    "output_type": "execute_result"
                }
            ],
            "source": [
                "qdac_2.BNC34()"
            ]
        },
        {
            "cell_type": "code",
            "execution_count": 12,
            "metadata": {},
            "outputs": [
                {
                    "name": "stdout",
                    "output_type": "stream",
                    "text": [
                        "2022-08-17 16:56:39,613 - qm - INFO - Flags: \n",
                        "2022-08-17 16:56:39,614 - qm - INFO - Compiling program\n",
                        "Starting experimental run with id: 1091. \n",
                        "2022-08-17 16:57:08,878 - qm - INFO - Sending pre-compiled program to QOP\n",
                        "30.0\n",
                        "31.154223203659058\n"
                    ]
                }
            ],
            "source": [
                "#qdac_2.BNC30(-0.1319)\n",
                "#qdac_2.BNC32(-0.520)\n",
                "qdac_2.BNC34(-0.355)\n",
                "\n",
                "slow_steps = 100 #number of pixel along slow axis\n",
                "fast_steps = 100 #number of pixel along fast axis\n",
                "time_per_pixel = 0.003 # in seconds\n",
                "triggered_id = setup_buffered(steps=fast_steps*slow_steps)\n",
                "\n",
                "job=do2d_buffered(qdac_2.ch12,-0.200,-0.110, slow_steps, qdac_2.ch05, -0.19, -0.13, fast_steps,time_per_pixel, triggered_id)\n",
                "gate_29_DC_bias = -0.1269 #BNC29 in V\n",
                "gate_36_DC_bias = -0.1733  #BNC36 in V"
            ]
        },
        {
            "cell_type": "code",
            "execution_count": 13,
            "metadata": {},
            "outputs": [
                {
                    "data": {
                        "text/plain": [
                            "-0.131895"
                        ]
                    },
                    "execution_count": 13,
                    "metadata": {},
                    "output_type": "execute_result"
                }
            ],
            "source": [
                "qdac_2.BNC30()"
            ]
        },
        {
            "cell_type": "code",
            "execution_count": 14,
            "metadata": {},
            "outputs": [
                {
                    "name": "stdout",
                    "output_type": "stream",
                    "text": [
                        "Starting experimental run with id: 1092. \n",
                        "2022-08-17 16:58:49,405 - qm - INFO - Sending pre-compiled program to QOP\n",
                        "30.0\n",
                        "31.141907215118408\n"
                    ]
                }
            ],
            "source": [
                "qdac_2.BNC30(-0.1318)\n",
                "#qdac_2.BNC32(-0.520)\n",
                "#qdac_2.BNC34(-0.355)\n",
                "\n",
                "slow_steps = 100 #number of pixel along slow axis\n",
                "fast_steps = 100 #number of pixel along fast axis\n",
                "time_per_pixel = 0.003 # in seconds\n",
                "#triggered_id = setup_buffered(steps=fast_steps*slow_steps)\n",
                "\n",
                "job=do2d_buffered(qdac_2.ch12,-0.200,-0.110, slow_steps, qdac_2.ch05, -0.18, -0.12, fast_steps,time_per_pixel, triggered_id)\n",
                "gate_29_DC_bias = -0.1269 #BNC29 in V\n",
                "gate_36_DC_bias = -0.1733  #BNC36 in V"
            ]
        },
        {
            "cell_type": "code",
            "execution_count": 15,
            "metadata": {},
            "outputs": [],
            "source": [
                "gate_29_DC_bias = -0.1314 #BNC29 in V\n",
                "gate_36_DC_bias = -0.1809  #BNC36 in V\n",
                "\n",
                "gate_29_DC_initialize = -0.1306 #BNC29 in V\n",
                "gate_36_DC_initialize = -0.1831 #BNC36 in V\n",
                "\n",
                "qdac_2.BNC29(gate_29_DC_bias)\n",
                "qdac_2.BNC36(gate_36_DC_bias)"
            ]
        },
        {
            "cell_type": "markdown",
            "metadata": {},
            "source": [
                "# 18 Aug 2022"
            ]
        },
        {
            "cell_type": "code",
            "execution_count": 12,
            "metadata": {},
            "outputs": [
                {
                    "name": "stdout",
                    "output_type": "stream",
                    "text": [
                        "2022-08-18 08:58:25,540 - qm - INFO - Flags: \n",
                        "2022-08-18 08:58:25,541 - qm - INFO - Compiling program\n",
                        "Starting experimental run with id: 1093. \n",
                        "2022-08-18 08:58:54,039 - qm - INFO - Sending pre-compiled program to QOP\n",
                        "30.0\n",
                        "31.211315631866455\n"
                    ]
                }
            ],
            "source": [
                "#qdac_2.BNC30(-0.1318)\n",
                "#qdac_2.BNC32(-0.520)\n",
                "#qdac_2.BNC34(-0.355)\n",
                "\n",
                "slow_steps = 100 #number of pixel along slow axis\n",
                "fast_steps = 100 #number of pixel along fast axis\n",
                "time_per_pixel = 0.003 # in seconds\n",
                "triggered_id = setup_buffered(steps=fast_steps*slow_steps)\n",
                "\n",
                "job=do2d_buffered(qdac_2.ch12,-0.200,-0.110, slow_steps, qdac_2.ch05, -0.18, -0.12, fast_steps,time_per_pixel, triggered_id)\n",
                "gate_29_DC_bias = -0.1269 #BNC29 in V\n",
                "gate_36_DC_bias = -0.1733  #BNC36 in V"
            ]
        },
        {
            "cell_type": "code",
            "execution_count": 14,
            "metadata": {},
            "outputs": [],
            "source": [
                "gate_29_DC_bias = -0.1314 #BNC29 in V\n",
                "gate_36_DC_bias = -0.1809  #BNC36 in V\n",
                "\n",
                "gate_29_DC_initialize = -0.1306 #BNC29 in V\n",
                "gate_36_DC_initialize = -0.1831 #BNC36 in V\n",
                "\n",
                "qdac_2.BNC29(gate_29_DC_bias)\n",
                "qdac_2.BNC36(gate_36_DC_bias)"
            ]
        },
        {
            "cell_type": "markdown",
            "metadata": {},
            "source": [
                "# 20 Aug 2022"
            ]
        },
        {
            "cell_type": "code",
            "execution_count": 12,
            "metadata": {},
            "outputs": [
                {
                    "name": "stdout",
                    "output_type": "stream",
                    "text": [
                        "2022-08-20 09:52:30,414 - qm - INFO - Flags: \n",
                        "2022-08-20 09:52:30,415 - qm - INFO - Compiling program\n",
                        "Starting experimental run with id: 1101. \n",
                        "2022-08-20 09:52:59,164 - qm - INFO - Sending pre-compiled program to QOP\n",
                        "30.0\n",
                        "31.791581630706787\n"
                    ]
                }
            ],
            "source": [
                "#qdac_2.BNC30(-0.1318)\n",
                "#qdac_2.BNC32(-0.520)\n",
                "#qdac_2.BNC34(-0.355)\n",
                "\n",
                "slow_steps = 100 #number of pixel along slow axis\n",
                "fast_steps = 100 #number of pixel along fast axis\n",
                "time_per_pixel = 0.003 # in seconds\n",
                "triggered_id = setup_buffered(steps=fast_steps*slow_steps)\n",
                "\n",
                "job=do2d_buffered(qdac_2.ch12,-0.200,-0.110, slow_steps, qdac_2.ch05, -0.18, -0.12, fast_steps,time_per_pixel, triggered_id)\n",
                "gate_29_DC_bias = -0.1269 #BNC29 in V\n",
                "gate_36_DC_bias = -0.1733  #BNC36 in V"
            ]
        },
        {
            "cell_type": "code",
            "execution_count": 14,
            "metadata": {},
            "outputs": [],
            "source": [
                "gate_29_DC_bias = -0.1303 #BNC29 in V\n",
                "gate_36_DC_bias = -0.1812  #BNC36 in V\n",
                "\n",
                "# gate_29_DC_initialize = -0.1306 #BNC29 in V\n",
                "# gate_36_DC_initialize = -0.1831 #BNC36 in V\n",
                "\n",
                "qdac_2.BNC29(gate_29_DC_bias)\n",
                "qdac_2.BNC36(gate_36_DC_bias)"
            ]
        },
        {
            "cell_type": "code",
            "execution_count": 12,
            "metadata": {},
            "outputs": [
                {
                    "data": {
                        "text/plain": [
                            "-0.354994"
                        ]
                    },
                    "execution_count": 12,
                    "metadata": {},
                    "output_type": "execute_result"
                }
            ],
            "source": [
                "qdac_2.BNC34()"
            ]
        },
        {
            "cell_type": "code",
            "execution_count": 13,
            "metadata": {},
            "outputs": [
                {
                    "name": "stdout",
                    "output_type": "stream",
                    "text": [
                        "2022-08-20 11:24:37,702 - qm - INFO - Flags: \n",
                        "2022-08-20 11:24:37,703 - qm - INFO - Compiling program\n",
                        "Starting experimental run with id: 1102. \n",
                        "2022-08-20 11:25:10,805 - qm - INFO - Sending pre-compiled program to QOP\n",
                        "30.0\n",
                        "31.125422716140747\n"
                    ]
                }
            ],
            "source": [
                "#qdac_2.BNC30(-0.1318)\n",
                "#qdac_2.BNC32(-0.520)\n",
                "qdac_2.BNC34(-0.345)\n",
                "\n",
                "slow_steps = 100 #number of pixel along slow axis\n",
                "fast_steps = 100 #number of pixel along fast axis\n",
                "time_per_pixel = 0.003 # in seconds\n",
                "triggered_id = setup_buffered(steps=fast_steps*slow_steps)\n",
                "\n",
                "job=do2d_buffered(qdac_2.ch12,-0.200,-0.110, slow_steps, qdac_2.ch05, -0.18, -0.12, fast_steps,time_per_pixel, triggered_id)\n",
                "gate_29_DC_bias = -0.1269 #BNC29 in V\n",
                "gate_36_DC_bias = -0.1733  #BNC36 in V"
            ]
        },
        {
            "cell_type": "code",
            "execution_count": 14,
            "metadata": {},
            "outputs": [
                {
                    "name": "stdout",
                    "output_type": "stream",
                    "text": [
                        "Starting experimental run with id: 1103. \n",
                        "2022-08-20 11:28:31,514 - qm - INFO - Sending pre-compiled program to QOP\n",
                        "30.0\n",
                        "31.219821214675903\n"
                    ]
                }
            ],
            "source": [
                "qdac_2.BNC30(-0.1316)\n",
                "#qdac_2.BNC32(-0.520)\n",
                "#qdac_2.BNC34(-0.345)\n",
                "\n",
                "slow_steps = 100 #number of pixel along slow axis\n",
                "fast_steps = 100 #number of pixel along fast axis\n",
                "time_per_pixel = 0.003 # in seconds\n",
                "#triggered_id = setup_buffered(steps=fast_steps*slow_steps)\n",
                "\n",
                "job=do2d_buffered(qdac_2.ch12,-0.200,-0.110, slow_steps, qdac_2.ch05, -0.18, -0.12, fast_steps,time_per_pixel, triggered_id)\n",
                "gate_29_DC_bias = -0.1269 #BNC29 in V\n",
                "gate_36_DC_bias = -0.1733  #BNC36 in V"
            ]
        },
        {
            "cell_type": "code",
            "execution_count": 15,
            "metadata": {},
            "outputs": [],
            "source": [
                "gate_29_DC_bias = -0.1351 #BNC29 in V\n",
                "gate_36_DC_bias = -0.1888  #BNC36 in V\n",
                "\n",
                "# gate_29_DC_initialize = -0.1306 #BNC29 in V\n",
                "# gate_36_DC_initialize = -0.1831 #BNC36 in V\n",
                "\n",
                "qdac_2.BNC29(gate_29_DC_bias)\n",
                "qdac_2.BNC36(gate_36_DC_bias)"
            ]
        },
        {
            "cell_type": "code",
            "execution_count": 11,
            "metadata": {},
            "outputs": [
                {
                    "name": "stdout",
                    "output_type": "stream",
                    "text": [
                        "2022-08-21 11:41:30,131 - qm - INFO - Flags: \n",
                        "2022-08-21 11:41:30,131 - qm - INFO - Compiling program\n",
                        "Starting experimental run with id: 1104. \n",
                        "2022-08-21 11:41:55,156 - qm - INFO - Sending pre-compiled program to QOP\n",
                        "30.0\n",
                        "31.119699001312256\n"
                    ]
                }
            ],
            "source": [
                "#qdac_2.BNC30(-0.1316)\n",
                "#qdac_2.BNC32(-0.520)\n",
                "#qdac_2.BNC34(-0.345)\n",
                "\n",
                "slow_steps = 100 #number of pixel along slow axis\n",
                "fast_steps = 100 #number of pixel along fast axis\n",
                "time_per_pixel = 0.003 # in seconds\n",
                "triggered_id = setup_buffered(steps=fast_steps*slow_steps)\n",
                "\n",
                "job=do2d_buffered(qdac_2.ch12,-0.200,-0.110, slow_steps, qdac_2.ch05, -0.18, -0.12, fast_steps,time_per_pixel, triggered_id)\n",
                "gate_29_DC_bias = -0.1269 #BNC29 in V\n",
                "gate_36_DC_bias = -0.1733  #BNC36 in V"
            ]
        },
        {
            "cell_type": "code",
            "execution_count": 12,
            "metadata": {},
            "outputs": [
                {
                    "data": {
                        "text/plain": [
                            "-0.131609"
                        ]
                    },
                    "execution_count": 12,
                    "metadata": {},
                    "output_type": "execute_result"
                }
            ],
            "source": [
                "qdac_2.BNC30()"
            ]
        },
        {
            "cell_type": "code",
            "execution_count": 13,
            "metadata": {},
            "outputs": [
                {
                    "name": "stdout",
                    "output_type": "stream",
                    "text": [
                        "Starting experimental run with id: 1105. \n",
                        "2022-08-21 11:43:22,122 - qm - INFO - Sending pre-compiled program to QOP\n",
                        "30.0\n",
                        "31.24916362762451\n"
                    ]
                }
            ],
            "source": [
                "qdac_2.BNC30(-0.1317)\n",
                "#qdac_2.BNC32(-0.520)\n",
                "#qdac_2.BNC34(-0.345)\n",
                "\n",
                "slow_steps = 100 #number of pixel along slow axis\n",
                "fast_steps = 100 #number of pixel along fast axis\n",
                "time_per_pixel = 0.003 # in seconds\n",
                "#triggered_id = setup_buffered(steps=fast_steps*slow_steps)\n",
                "\n",
                "job=do2d_buffered(qdac_2.ch12,-0.200,-0.110, slow_steps, qdac_2.ch05, -0.18, -0.12, fast_steps,time_per_pixel, triggered_id)\n",
                "gate_29_DC_bias = -0.1269 #BNC29 in V\n",
                "gate_36_DC_bias = -0.1733  #BNC36 in V"
            ]
        },
        {
            "cell_type": "code",
            "execution_count": 14,
            "metadata": {},
            "outputs": [],
            "source": [
                "gate_29_DC_bias = -0.1343 #BNC29 in V\n",
                "gate_36_DC_bias = -0.1885  #BNC36 in V\n",
                "\n",
                "# gate_29_DC_initialize = -0.1306 #BNC29 in V\n",
                "# gate_36_DC_initialize = -0.1831 #BNC36 in V\n",
                "\n",
                "qdac_2.BNC29(gate_29_DC_bias)\n",
                "qdac_2.BNC36(gate_36_DC_bias)"
            ]
        },
        {
            "cell_type": "code",
            "execution_count": null,
            "metadata": {},
            "outputs": [],
            "source": [
                "qdac_2.BNC30(-0.1317)\n",
                "#qdac_2.BNC32(-0.520)\n",
                "#qdac_2.BNC34(-0.345)\n",
                "\n",
                "slow_steps = 100 #number of pixel along slow axis\n",
                "fast_steps = 100 #number of pixel along fast axis\n",
                "time_per_pixel = 0.003 # in seconds\n",
                "#triggered_id = setup_buffered(steps=fast_steps*slow_steps)\n",
                "\n",
                "job=do2d_buffered(qdac_2.ch12,-0.200,-0.110, slow_steps, qdac_2.ch05, -0.18, -0.12, fast_steps,time_per_pixel, triggered_id)\n",
                "gate_29_DC_bias = -0.1269 #BNC29 in V\n",
                "gate_36_DC_bias = -0.1733  #BNC36 in V"
            ]
        },
        {
            "cell_type": "code",
            "execution_count": 12,
            "metadata": {},
            "outputs": [
                {
                    "name": "stdout",
                    "output_type": "stream",
                    "text": [
                        "2022-08-21 12:07:53,182 - qm - INFO - Flags: \n",
                        "2022-08-21 12:07:53,184 - qm - INFO - Compiling program\n",
                        "Starting experimental run with id: 1106. \n",
                        "2022-08-21 12:08:24,821 - qm - INFO - Sending pre-compiled program to QOP\n",
                        "30.0\n",
                        "31.114392042160034\n"
                    ]
                }
            ],
            "source": [
                "#qdac_2.BNC30(-0.1317)\n",
                "#qdac_2.BNC32(-0.520)\n",
                "#qdac_2.BNC34(-0.360)\n",
                "\n",
                "slow_steps = 100 #number of pixel along slow axis\n",
                "fast_steps = 100 #number of pixel along fast axis\n",
                "time_per_pixel = 0.003 # in seconds\n",
                "triggered_id = setup_buffered(steps=fast_steps*slow_steps)\n",
                "\n",
                "job=do2d_buffered(qdac_2.ch12,-0.200,-0.110, slow_steps, qdac_2.ch05, -0.18, -0.12, fast_steps,time_per_pixel, triggered_id)\n",
                "gate_29_DC_bias = -0.1269 #BNC29 in V\n",
                "gate_36_DC_bias = -0.1733  #BNC36 in V"
            ]
        },
        {
            "cell_type": "code",
            "execution_count": 13,
            "metadata": {},
            "outputs": [],
            "source": [
                "gate_29_DC_bias = -0.1286 #BNC29 in V\n",
                "gate_36_DC_bias = -0.177  #BNC36 in V\n",
                "\n",
                "# gate_29_DC_initialize = -0.1306 #BNC29 in V\n",
                "# gate_36_DC_initialize = -0.1831 #BNC36 in V\n",
                "\n",
                "qdac_2.BNC29(gate_29_DC_bias)\n",
                "qdac_2.BNC36(gate_36_DC_bias)"
            ]
        },
        {
            "cell_type": "markdown",
            "metadata": {},
            "source": [
                "# 22 Aug 2022"
            ]
        },
        {
            "cell_type": "code",
            "execution_count": 12,
            "metadata": {},
            "outputs": [
                {
                    "name": "stdout",
                    "output_type": "stream",
                    "text": [
                        "2022-08-22 17:13:49,934 - qm - INFO - Flags: \n",
                        "2022-08-22 17:13:49,936 - qm - INFO - Compiling program\n",
                        "Starting experimental run with id: 1107. \n",
                        "2022-08-22 17:14:18,816 - qm - INFO - Sending pre-compiled program to QOP\n",
                        "30.0\n",
                        "31.231635570526123\n"
                    ]
                }
            ],
            "source": [
                "#qdac_2.BNC30(-0.1317)\n",
                "#qdac_2.BNC32(-0.520)\n",
                "#qdac_2.BNC34(-0.360)\n",
                "\n",
                "slow_steps = 100 #number of pixel along slow axis\n",
                "fast_steps = 100 #number of pixel along fast axis\n",
                "time_per_pixel = 0.003 # in seconds\n",
                "triggered_id = setup_buffered(steps=fast_steps*slow_steps)\n",
                "\n",
                "job=do2d_buffered(qdac_2.ch12,-0.200,-0.110, slow_steps, qdac_2.ch05, -0.18, -0.12, fast_steps,time_per_pixel, triggered_id)\n",
                "gate_29_DC_bias = -0.1286 #BNC29 in V\n",
                "gate_36_DC_bias = -0.177  #BNC36 in V\n",
                "qdac_2.BNC29(gate_29_DC_bias)\n",
                "qdac_2.BNC36(gate_36_DC_bias)"
            ]
        },
        {
            "cell_type": "code",
            "execution_count": 13,
            "metadata": {},
            "outputs": [
                {
                    "data": {
                        "text/plain": [
                            "-0.131705"
                        ]
                    },
                    "execution_count": 13,
                    "metadata": {},
                    "output_type": "execute_result"
                }
            ],
            "source": [
                "qdac_2.BNC30()"
            ]
        },
        {
            "cell_type": "code",
            "execution_count": 16,
            "metadata": {},
            "outputs": [
                {
                    "name": "stdout",
                    "output_type": "stream",
                    "text": [
                        "Starting experimental run with id: 1110. \n",
                        "2022-08-22 17:20:16,244 - qm - INFO - Sending pre-compiled program to QOP\n",
                        "30.0\n",
                        "31.144236087799072\n"
                    ]
                }
            ],
            "source": [
                "qdac_2.BNC30(-0.1321)\n",
                "#qdac_2.BNC32(-0.520)\n",
                "#qdac_2.BNC34(-0.360)\n",
                "\n",
                "slow_steps = 100 #number of pixel along slow axis\n",
                "fast_steps = 100 #number of pixel along fast axis\n",
                "time_per_pixel = 0.003 # in seconds\n",
                "#triggered_id = setup_buffered(steps=fast_steps*slow_steps)\n",
                "\n",
                "job=do2d_buffered(qdac_2.ch12,-0.200,-0.110, slow_steps, qdac_2.ch05, -0.18, -0.12, fast_steps,time_per_pixel, triggered_id)\n",
                "gate_29_DC_bias = -0.1286 #BNC29 in V\n",
                "gate_36_DC_bias = -0.177  #BNC36 in V\n",
                "qdac_2.BNC29(gate_29_DC_bias)\n",
                "qdac_2.BNC36(gate_36_DC_bias)"
            ]
        },
        {
            "cell_type": "code",
            "execution_count": 17,
            "metadata": {},
            "outputs": [],
            "source": [
                "gate_29_DC_bias = -0.1286 #BNC29 in V\n",
                "gate_36_DC_bias = -0.1779  #BNC36 in V\n",
                "qdac_2.BNC29(gate_29_DC_bias)\n",
                "qdac_2.BNC36(gate_36_DC_bias)"
            ]
        },
        {
            "cell_type": "code",
            "execution_count": 13,
            "metadata": {},
            "outputs": [
                {
                    "name": "stdout",
                    "output_type": "stream",
                    "text": [
                        "2022-08-22 18:43:37,969 - qm - INFO - Flags: \n",
                        "2022-08-22 18:43:37,970 - qm - INFO - Compiling program\n",
                        "Starting experimental run with id: 1115. \n",
                        "2022-08-22 18:44:06,802 - qm - INFO - Sending pre-compiled program to QOP\n",
                        "30.0\n",
                        "31.214704036712646\n"
                    ]
                }
            ],
            "source": [
                "qdac_2.BNC30(-0.1331)\n",
                "#qdac_2.BNC32(-0.520)\n",
                "#qdac_2.BNC34(-0.360)\n",
                "\n",
                "slow_steps = 100 #number of pixel along slow axis\n",
                "fast_steps = 100 #number of pixel along fast axis\n",
                "time_per_pixel = 0.003 # in seconds\n",
                "triggered_id = setup_buffered(steps=fast_steps*slow_steps)\n",
                "\n",
                "job=do2d_buffered(qdac_2.ch12,-0.200,-0.110, slow_steps, qdac_2.ch05, -0.18, -0.12, fast_steps,time_per_pixel, triggered_id)\n",
                "gate_29_DC_bias = -0.1286 #BNC29 in V\n",
                "gate_36_DC_bias = -0.177  #BNC36 in V\n",
                "qdac_2.BNC29(gate_29_DC_bias)\n",
                "qdac_2.BNC36(gate_36_DC_bias)"
            ]
        },
        {
            "cell_type": "code",
            "execution_count": 14,
            "metadata": {},
            "outputs": [],
            "source": [
                "gate_29_DC_bias = -0.1286 #BNC29 in V\n",
                "gate_36_DC_bias = -0.1779  #BNC36 in V\n",
                "qdac_2.BNC29(gate_29_DC_bias)\n",
                "qdac_2.BNC36(gate_36_DC_bias)"
            ]
        },
        {
            "cell_type": "code",
            "execution_count": 13,
            "metadata": {},
            "outputs": [
                {
                    "name": "stdout",
                    "output_type": "stream",
                    "text": [
                        "2022-08-23 18:40:28,739 - qm - INFO - Flags: \n",
                        "2022-08-23 18:40:28,740 - qm - INFO - Compiling program\n",
                        "Starting experimental run with id: 1119. \n",
                        "2022-08-23 18:40:57,815 - qm - INFO - Sending pre-compiled program to QOP\n",
                        "30.0\n",
                        "31.267985582351685\n"
                    ]
                }
            ],
            "source": [
                "qdac_2.BNC30(-0.1321)\n",
                "#qdac_2.BNC32(-0.520)\n",
                "#qdac_2.BNC34(-0.360)\n",
                "\n",
                "slow_steps = 100 #number of pixel along slow axis\n",
                "fast_steps = 100 #number of pixel along fast axis\n",
                "time_per_pixel = 0.003 # in seconds\n",
                "triggered_id = setup_buffered(steps=fast_steps*slow_steps)\n",
                "\n",
                "job=do2d_buffered(qdac_2.ch12,-0.200,-0.110, slow_steps, qdac_2.ch05, -0.18, -0.12, fast_steps,time_per_pixel, triggered_id)\n",
                "gate_29_DC_bias = -0.1286 #BNC29 in V\n",
                "gate_36_DC_bias = -0.177  #BNC36 in V\n",
                "qdac_2.BNC29(gate_29_DC_bias)\n",
                "qdac_2.BNC36(gate_36_DC_bias)"
            ]
        },
        {
            "cell_type": "code",
            "execution_count": 14,
            "metadata": {},
            "outputs": [],
            "source": [
                "gate_29_DC_bias = -0.1287 #BNC29 in V\n",
                "gate_36_DC_bias = -0.1782  #BNC36 in V\n",
                "qdac_2.BNC29(gate_29_DC_bias)\n",
                "qdac_2.BNC36(gate_36_DC_bias)"
            ]
        },
        {
            "cell_type": "markdown",
            "metadata": {},
            "source": [
                "# 27 Aug 2022"
            ]
        },
        {
            "cell_type": "code",
            "execution_count": 12,
            "metadata": {},
            "outputs": [
                {
                    "name": "stdout",
                    "output_type": "stream",
                    "text": [
                        "2022-08-27 12:08:20,356 - qm - INFO - Flags: \n",
                        "2022-08-27 12:08:20,357 - qm - INFO - Compiling program\n",
                        "Starting experimental run with id: 1120. \n",
                        "2022-08-27 12:08:50,546 - qm - INFO - Sending pre-compiled program to QOP\n",
                        "30.0\n",
                        "31.08063316345215\n"
                    ]
                }
            ],
            "source": [
                "#qdac_2.BNC30(-0.1321)\n",
                "#qdac_2.BNC32(-0.520)\n",
                "#qdac_2.BNC34(-0.360)\n",
                "\n",
                "slow_steps = 100 #number of pixel along slow axis\n",
                "fast_steps = 100 #number of pixel along fast axis\n",
                "time_per_pixel = 0.003 # in seconds\n",
                "triggered_id = setup_buffered(steps=fast_steps*slow_steps)\n",
                "\n",
                "job=do2d_buffered(qdac_2.ch12,-0.200,-0.110, slow_steps, qdac_2.ch05, -0.18, -0.12, fast_steps,time_per_pixel, triggered_id)\n",
                "gate_29_DC_bias = -0.1286 #BNC29 in V\n",
                "gate_36_DC_bias = -0.177  #BNC36 in V\n",
                "qdac_2.BNC29(gate_29_DC_bias)\n",
                "qdac_2.BNC36(gate_36_DC_bias)"
            ]
        },
        {
            "cell_type": "code",
            "execution_count": 13,
            "metadata": {},
            "outputs": [
                {
                    "data": {
                        "text/plain": [
                            "-0.132105"
                        ]
                    },
                    "execution_count": 13,
                    "metadata": {},
                    "output_type": "execute_result"
                }
            ],
            "source": [
                "qdac_2.BNC30()"
            ]
        },
        {
            "cell_type": "code",
            "execution_count": 14,
            "metadata": {},
            "outputs": [
                {
                    "name": "stdout",
                    "output_type": "stream",
                    "text": [
                        "Starting experimental run with id: 1121. \n",
                        "2022-08-27 12:10:21,180 - qm - INFO - Sending pre-compiled program to QOP\n",
                        "30.0\n",
                        "31.223459720611572\n"
                    ]
                }
            ],
            "source": [
                "qdac_2.BNC30(-0.132)\n",
                "#qdac_2.BNC32(-0.520)\n",
                "#qdac_2.BNC34(-0.360)\n",
                "\n",
                "slow_steps = 100 #number of pixel along slow axis\n",
                "fast_steps = 100 #number of pixel along fast axis\n",
                "time_per_pixel = 0.003 # in seconds\n",
                "#triggered_id = setup_buffered(steps=fast_steps*slow_steps)\n",
                "\n",
                "job=do2d_buffered(qdac_2.ch12,-0.200,-0.110, slow_steps, qdac_2.ch05, -0.18, -0.12, fast_steps,time_per_pixel, triggered_id)\n",
                "gate_29_DC_bias = -0.1286 #BNC29 in V\n",
                "gate_36_DC_bias = -0.177  #BNC36 in V\n",
                "qdac_2.BNC29(gate_29_DC_bias)\n",
                "qdac_2.BNC36(gate_36_DC_bias)"
            ]
        },
        {
            "cell_type": "code",
            "execution_count": 15,
            "metadata": {},
            "outputs": [],
            "source": [
                "gate_29_DC_bias = -0.1287 #BNC29 in V\n",
                "gate_36_DC_bias = -0.1791  #BNC36 in V\n",
                "qdac_2.BNC29(gate_29_DC_bias)\n",
                "qdac_2.BNC36(gate_36_DC_bias)"
            ]
        }
    ],
    "metadata": {
        "kernelspec": {
            "display_name": "Python 3.8.12 ('livestream')",
            "language": "python",
            "name": "python3"
        },
        "language_info": {
            "codemirror_mode": {
                "name": "ipython",
                "version": 3
            },
            "file_extension": ".py",
            "mimetype": "text/x-python",
            "name": "python",
            "nbconvert_exporter": "python",
            "pygments_lexer": "ipython3",
            "version": "3.8.12"
        },
        "orig_nbformat": 4,
        "vscode": {
            "interpreter": {
                "hash": "b8ee9046cb7def393cd8aed07bd1bdf97e34544a522b3b4773f2c7ad338be066"
            }
        }
    },
    "nbformat": 4,
    "nbformat_minor": 2
}
