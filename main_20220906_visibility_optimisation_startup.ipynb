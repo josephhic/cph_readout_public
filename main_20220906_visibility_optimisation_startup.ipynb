{
    "cells": [
        {
            "cell_type": "markdown",
            "metadata": {},
            "source": [
                "# Qcodes loading"
            ]
        },
        {
            "cell_type": "code",
            "execution_count": 1,
            "metadata": {},
            "outputs": [],
            "source": [
                "# -*- coding: utf-8 -*-\n",
                "\"\"\"\n",
                "Created on January 27 2022\n",
                "\n",
                "@author: FB\n",
                "\"\"\"\n",
                "\n",
                "import matplotlib.pyplot as plt\n",
                "import numpy as np\n",
                "import os\n",
                "from time import sleep, monotonic\n",
                "\n",
                "import qcodes as qc\n",
                "from qcodes import Station, load_or_create_experiment, initialise_database, Measurement, load_by_run_spec, load_by_id\n",
                "from qcodes.dataset.plotting import plot_dataset, plot_by_id\n",
                "from qcodes.utils.dataset.doNd import do0d,do1d, do2d\n",
                "\n",
                "qc.config.dataset.dond_plot = True\n",
                "\n",
                "database_name = 'FF1B_2022_OPX' #database name file. Look at cell below for its location"
            ]
        },
        {
            "cell_type": "code",
            "execution_count": 2,
            "metadata": {},
            "outputs": [
                {
                    "name": "stdout",
                    "output_type": "stream",
                    "text": [
                        "Logging hadn't been started.\n",
                        "Activating auto-logging. Current session state plus future input saved.\n",
                        "Filename       : C:\\Users\\T7_3\\.qcodes\\logs\\command_history.log\n",
                        "Mode           : append\n",
                        "Output logging : True\n",
                        "Raw input log  : False\n",
                        "Timestamping   : True\n",
                        "State          : active\n",
                        "Qcodes Logfile : C:\\Users\\T7_3\\.qcodes\\logs\\220906-28676-qcodes.log\n"
                    ]
                }
            ],
            "source": [
                "dir_database = 'D:\\database'\n",
                "database_format = '.db'\n",
                "database_path = os.path.join(dir_database, database_name + database_format)\n",
                "\n",
                "qc.config.user.mainfolder = os.path.join(dir_database, database_name) #saves plots in png and pdf in the database folder\n",
                "qc.logger.start_all_logging()\n",
                "station = qc.Station()\n",
                "\n",
                "qc.initialise_or_create_database_at(database_path) \n",
                "exp = load_or_create_experiment(\n",
                "    experiment_name= 'T7_3',\n",
                "    sample_name=\"FF1B\"\n",
                ")"
            ]
        },
        {
            "cell_type": "code",
            "execution_count": 3,
            "metadata": {},
            "outputs": [],
            "source": [
                "STATION = qc.Station(config_file='config_20220506.yaml',use_monitor='True')"
            ]
        },
        {
            "cell_type": "code",
            "execution_count": 4,
            "metadata": {},
            "outputs": [
                {
                    "name": "stderr",
                    "output_type": "stream",
                    "text": [
                        "2022-09-06 16:33:17,181 ¦ py.warnings ¦ WARNING ¦ warnings ¦ _showwarnmsg ¦ 109 ¦ c:\\Users\\T7_3\\miniconda3\\envs\\livestream\\lib\\site-packages\\qcodes\\station.py:568: QCoDeSDeprecationWarning: The use of a comma separated string for the limits keyword is deprecated. Use \"an array like \"[lower_lim, upper_lim]\"\" as an alternative.\n",
                        "  issue_deprecation_warning(\n",
                        "\n"
                    ]
                }
            ],
            "source": [
                "#qdac=STATION.load_instrument('qdac_B')\n",
                "qdac_2=STATION.load_instrument('qdac_B_2')"
            ]
        },
        {
            "cell_type": "code",
            "execution_count": 5,
            "metadata": {},
            "outputs": [
                {
                    "name": "stdout",
                    "output_type": "stream",
                    "text": [
                        "Connected to: Mini-Circuits MN=RCDAT-6000-60 (serial:SN=11909040004, firmware:E5-2) in 0.06s\n",
                        "36.0\n"
                    ]
                }
            ],
            "source": [
                "step_att=STATION.load_instrument('step_att_2')\n",
                "print(step_att.attenuation())"
            ]
        },
        {
            "cell_type": "markdown",
            "metadata": {},
            "source": [
                "# Setting up buffered acquisition"
            ]
        },
        {
            "cell_type": "code",
            "execution_count": 6,
            "metadata": {},
            "outputs": [
                {
                    "name": "stdout",
                    "output_type": "stream",
                    "text": [
                        "2022-09-06 16:33:21,637 - qm - INFO - Performing health check\n",
                        "2022-09-06 16:33:21,649 - qm - INFO - Health check passed\n"
                    ]
                }
            ],
            "source": [
                "from config_my_pulses_FB import config\n",
                "from qm.qua import wait_for_trigger,reset_phase,program,update_frequency,for_,stream_processing,declare,declare_stream,wait,measure,play,save,fixed,demod,ramp,amp,if_,elif_,else_,align, ramp_to_zero\n",
                "from qm.QuantumMachinesManager import QuantumMachinesManager\n",
                "\n",
                "qmm=QuantumMachinesManager(host='192.168.15.128',port=80)\n",
                "        #qmm.close_all_quantum_machines()\n",
                "# qm=qmm.open_qm(config, close_other_machines=True)"
            ]
        },
        {
            "cell_type": "code",
            "execution_count": 19,
            "metadata": {},
            "outputs": [],
            "source": [
                "def setup_buffered(steps=100,trigger = True):\n",
                "    with program() as triggered_meas:\n",
                "        I =declare(fixed)\n",
                "        Q = declare(fixed)  \n",
                "        I_stream = declare_stream()\n",
                "        Q_stream = declare_stream()\n",
                "        \n",
                "        n = declare(int)\n",
                "        if trigger:\n",
                "            wait_for_trigger('bottom_right_DQD_readout')\n",
                "        with for_(n,0,n<steps,n+1):\n",
                "            measure('readout_pulse_3ms','bottom_right_DQD_readout',None,demod.full('cos', I), demod.full('sin', Q))\n",
                "            save(I,I_stream)\n",
                "            save(Q,Q_stream)\n",
                "\n",
                "        with stream_processing():\n",
                "            I_stream.buffer(steps).save('I')\n",
                "            Q_stream.buffer(steps).save('Q')\n",
                "\n",
                "    triggered_id = qm.compile(triggered_meas)\n",
                "    return triggered_id"
            ]
        },
        {
            "cell_type": "code",
            "execution_count": 20,
            "metadata": {},
            "outputs": [],
            "source": [
                "def start_triggered(triggered_id):\n",
                "    p_job=qm.queue.add_compiled(triggered_id)\n",
                "    return p_job.wait_for_execution()\n",
                "\n",
                "def get_amp(job):\n",
                "    I_handle = job.result_handles.get('I')\n",
                "    Q_handle = job.result_handles.get('Q')\n",
                "    Q_handle.wait_for_all_values()\n",
                "    I_handle.wait_for_all_values()\n",
                "    results_I = I_handle.fetch_all()\n",
                "    results_Q = Q_handle.fetch_all()\n",
                "    return np.sqrt(results_Q**2+results_I**2)\n",
                "\n",
                "\n",
                "def get_phase(job):\n",
                "    I_handle = job.result_handles.get('I')\n",
                "    Q_handle = job.result_handles.get('Q')\n",
                "    Q_handle.wait_for_all_values()\n",
                "    I_handle.wait_for_all_values()\n",
                "    results_I = I_handle.fetch_all()\n",
                "    results_Q = Q_handle.fetch_all()\n",
                "    return np.arctan2(results_Q,results_I)\n",
                "\n",
                "from qcodes import Measurement\n",
                "from time import sleep\n",
                "import time\n",
                "import re\n",
                "# do2d_buffered takes as channel not (e.g.) qdac.ch01.v but qdac.ch01, as I need later (in ramp_voltages_2d_buffered) the channel number (obtained by int(re.findall(\"\\d+\", <string name>)[0]))\n",
                "def do1d_buffered(chan, vstart, vend, steps ,step_length, job_id):    \n",
                "    \n",
                "    #dmm_lockin.sample.pretrigger_count(0)\n",
                "    start = time.time()\n",
                "    meas = Measurement()\n",
                "    v1s = np.linspace(vstart, vend, steps)\n",
                "    #v2s = np.linspace(fast_vstart, fast_vend, fast_steps)\n",
                "    meas.register_parameter(chan.v)\n",
                "    #meas.register_parameter(fast_chan.v)\n",
                "    meas.register_custom_parameter('amp', 'amp', 'V', setpoints=(chan.v,))\n",
                "    meas.register_custom_parameter('phase', 'phase', 'rad', setpoints=(chan.v,))\n",
                "    ramp_time = step_length*steps\n",
                "    with meas.run() as datasaver: \n",
                "        job = start_triggered(job_id)\n",
                "        # sleep(2)\n",
                "        \n",
                "        meas_time = qdac_2.ramp_voltages( [int(re.findall(\"\\d+\", chan.short_name)[0])], [vstart], [vend], ramp_time)\n",
                "                                                \n",
                "        # sleep(meas_time)\n",
                "        print(meas_time)\n",
                "        amp_data = get_amp(job) #data = dmm.fetch()\n",
                "        phase_data = get_phase(job)\n",
                "        datasaver.add_result((chan.v, np.linspace(vstart,vend,steps)),\n",
                "                            ('amp', amp_data.flatten()),\n",
                "                            ('phase',phase_data.flatten()))    \n",
                "    #dataset2D = datasaver.dataset\n",
                "    end = time.time()\n",
                "    # plt.pcolormesh(data)\n",
                "    print(end - start)\n"
            ]
        },
        {
            "cell_type": "markdown",
            "metadata": {},
            "source": [
                "## do1d buffered"
            ]
        },
        {
            "cell_type": "code",
            "execution_count": 10,
            "metadata": {},
            "outputs": [],
            "source": [
                "# # %% \n",
                "# qdac_2.ch06.sync(1) #channel\n",
                "# qdac_2.ch06.sync_delay(0)\n",
                "# qdac_2.ch06.sync_duration(0.001)\n",
                "# qdac_2.ch06.v.label = 'BNC 30'\n",
                "\n",
                "# steps = 100 #number of pixel along slow axis\n",
                "# time_per_pixel = 0.003 # in seconds\n",
                "# triggered_id = setup_buffered(steps=steps)\n",
                "# do1d_buffered(qdac_2.ch06, -0.2, -0.1 ,steps,time_per_pixel,triggered_id)\n",
                "# qdac_2.BNC30(-0.150)"
            ]
        },
        {
            "cell_type": "markdown",
            "metadata": {},
            "source": [
                "## 2D buffered"
            ]
        },
        {
            "cell_type": "code",
            "execution_count": 21,
            "metadata": {},
            "outputs": [],
            "source": [
                "from qcodes import Measurement\n",
                "from time import sleep\n",
                "import time\n",
                "import re\n",
                "# do2d_buffered takes as channel not (e.g.) qdac.ch01.v but qdac.ch01, as I need later (in ramp_voltages_2d_buffered) the channel number (obtained by int(re.findall(\"\\d+\", <string name>)[0]))\n",
                "def do2d_buffered(slow_chan, slow_vstart, slow_vend, slow_steps , fast_chan, fast_vstart, fast_vend, fast_steps ,step_length, job_id):    \n",
                "    \n",
                "    #dmm_lockin.sample.pretrigger_count(0)\n",
                "    start = time.time()\n",
                "    meas = Measurement()\n",
                "    v1s = np.linspace(slow_vstart, slow_vend, slow_steps)\n",
                "    v2s = np.linspace(fast_vstart, fast_vend, fast_steps)\n",
                "    meas.register_parameter(slow_chan.v)\n",
                "    meas.register_parameter(fast_chan.v)\n",
                "    meas.register_custom_parameter('amp', 'amp', 'V', setpoints=(slow_chan.v,fast_chan.v,))\n",
                "    meas.register_custom_parameter('phase', 'phase', 'rad', setpoints=(slow_chan.v,fast_chan.v,))\n",
                "    \n",
                "    with meas.run() as datasaver: \n",
                "        job = start_triggered(job_id)\n",
                "        # sleep(2)\n",
                "        meas_time = qdac_2.ramp_voltages_2d( slow_chans=[int(re.findall(\"\\d+\", slow_chan.short_name)[0])], slow_vstart=[slow_vstart], slow_vend=[slow_vend],\n",
                "                                    fast_chans=[int(re.findall(\"\\d+\", fast_chan.short_name)[0])], fast_vstart=[fast_vstart], fast_vend=[fast_vend],\n",
                "                                    step_length=step_length,slow_steps = slow_steps, fast_steps = fast_steps)\n",
                "                                                \n",
                "        # sleep(meas_time)\n",
                "        print(meas_time)\n",
                "\n",
                "        amp_data =  get_amp(job)  #data = dmm.fetch()\n",
                "        phase_data = get_phase(job)\n",
                "        datasaver.add_result((slow_chan.v, np.repeat(v1s,fast_steps)),\n",
                "                            (fast_chan.v, np.tile(v2s,slow_steps)),\n",
                "                            ('amp', amp_data.flatten()),\n",
                "                            ('phase',phase_data.flatten()))    \n",
                "    # #dataset2D = datasaver.dataset\n",
                "    end = time.time()\n",
                "    # # plt.pcolormesh(data)\n",
                "    print(end - start)\n"
            ]
        },
        {
            "cell_type": "code",
            "execution_count": 22,
            "metadata": {},
            "outputs": [
                {
                    "name": "stdout",
                    "output_type": "stream",
                    "text": [
                        "2022-09-06 16:37:54,230 - qm - INFO - Flags: \n",
                        "2022-09-06 16:37:54,231 - qm - INFO - Compiling program\n"
                    ]
                }
            ],
            "source": [
                "do0d_job_id = setup_buffered(steps=1,trigger=False)\n",
                "\n",
                "def do0d(BNC30_val, job_id = do0d_job_id):    \n",
                "    \n",
                "    #dmm_lockin.sample.pretrigger_count(0)\n",
                "    start = time.time()\n",
                "    meas = Measurement()\n",
                "    # meas.register_parameter(slow_chan.v)\n",
                "    meas.register_custom_parameter('BNC30','BNC30','V')\n",
                "    meas.register_custom_parameter('amp', 'amp', 'V')\n",
                "    meas.register_custom_parameter('phase', 'phase', 'rad')\n",
                "    \n",
                "    with meas.run() as datasaver: \n",
                "        job = start_triggered(job_id)\n",
                "                                                \n",
                "        amp_data =  get_amp(job)  #data = dmm.fetch()\n",
                "        phase_data = get_phase(job)\n",
                "        datasaver.add_result(('BNC30', BNC30_val),\n",
                "                            ('amp', amp_data.flatten()[0]),\n",
                "                            ('phase',phase_data.flatten()[0]))    \n",
                "    \n",
                "    return amp_data, phase_data"
            ]
        },
        {
            "cell_type": "code",
            "execution_count": 15,
            "metadata": {},
            "outputs": [],
            "source": [
                "qdac_2.ch12.sync(1) #slow channel\n",
                "qdac_2.ch12.sync_delay(0)\n",
                "qdac_2.ch12.sync_duration(0.001)\n",
                "qdac_2.ch12.v.label = 'BNC 36'\n",
                "qdac_2.ch05.v.label = 'BNC 29'"
            ]
        },
        {
            "cell_type": "code",
            "execution_count": 11,
            "metadata": {},
            "outputs": [
                {
                    "data": {
                        "text/plain": [
                            "-0.365005"
                        ]
                    },
                    "execution_count": 11,
                    "metadata": {},
                    "output_type": "execute_result"
                }
            ],
            "source": [
                "qdac_2.BNC34()"
            ]
        },
        {
            "cell_type": "code",
            "execution_count": 16,
            "metadata": {},
            "outputs": [
                {
                    "data": {
                        "text/plain": [
                            "-0.128694"
                        ]
                    },
                    "execution_count": 16,
                    "metadata": {},
                    "output_type": "execute_result"
                }
            ],
            "source": [
                "qdac_2.BNC29()"
            ]
        },
        {
            "cell_type": "code",
            "execution_count": 17,
            "metadata": {},
            "outputs": [
                {
                    "data": {
                        "text/plain": [
                            "-0.179095"
                        ]
                    },
                    "execution_count": 17,
                    "metadata": {},
                    "output_type": "execute_result"
                }
            ],
            "source": [
                "qdac_2.BNC36()"
            ]
        },
        {
            "cell_type": "code",
            "execution_count": 14,
            "metadata": {},
            "outputs": [
                {
                    "data": {
                        "text/plain": [
                            "-0.519996"
                        ]
                    },
                    "execution_count": 14,
                    "metadata": {},
                    "output_type": "execute_result"
                }
            ],
            "source": [
                "qdac_2.BNC32()"
            ]
        },
        {
            "cell_type": "code",
            "execution_count": 15,
            "metadata": {},
            "outputs": [
                {
                    "data": {
                        "text/plain": [
                            "-0.699991"
                        ]
                    },
                    "execution_count": 15,
                    "metadata": {},
                    "output_type": "execute_result"
                }
            ],
            "source": [
                "qdac_2.BNC37()"
            ]
        },
        {
            "cell_type": "code",
            "execution_count": 19,
            "metadata": {},
            "outputs": [
                {
                    "data": {
                        "text/plain": [
                            "-0.131991"
                        ]
                    },
                    "execution_count": 19,
                    "metadata": {},
                    "output_type": "execute_result"
                }
            ],
            "source": [
                "qdac_2.BNC30()"
            ]
        },
        {
            "cell_type": "code",
            "execution_count": 22,
            "metadata": {},
            "outputs": [
                {
                    "name": "stdout",
                    "output_type": "stream",
                    "text": [
                        "Starting experimental run with id: 1151. \n",
                        "2022-09-06 15:45:07,203 - qm - INFO - Sending pre-compiled program to QOP\n",
                        "30.0\n",
                        "31.113529920578003\n"
                    ]
                }
            ],
            "source": [
                "qdac_2.BNC30(-0.132)\n",
                "#qdac_2.BNC32(-0.520)\n",
                "#qdac_2.BNC34(-0.365)\n",
                "\n",
                "slow_steps = 100 #number of pixel along slow axis\n",
                "fast_steps = 100 #number of pixel along fast axis\n",
                "time_per_pixel = 0.003 # in seconds\n",
                "triggered_id = setup_buffered(steps=fast_steps*slow_steps)\n",
                "\n",
                "job=do2d_buffered(qdac_2.ch12,-0.190,-0.120, slow_steps, qdac_2.ch05, -0.18, -0.12, fast_steps,time_per_pixel, triggered_id)\n",
                "qdac_2.BNC29(-0.128694)\n",
                "qdac_2.BNC36(-0.179095)"
            ]
        },
        {
            "cell_type": "markdown",
            "metadata": {},
            "source": [
                "# Overhauser\n"
            ]
        },
        {
            "cell_type": "code",
            "execution_count": 8,
            "metadata": {},
            "outputs": [],
            "source": [
                "# from config_my_pulses_FB import config\n",
                "from qm.qua import wait_for_trigger,reset_phase,Cast,Math, switch_,case_,program,update_frequency,for_,stream_processing,declare,declare_stream,wait,measure,play,save,fixed,demod,ramp,amp,if_,elif_,else_,align, ramp_to_zero\n",
                "from qm.QuantumMachinesManager import QuantumMachinesManager\n",
                "#from qualang_tools.bakery.bakery import baking\n",
                "from qm import SimulationConfig\n",
                "import numpy as np\n",
                "import pandas as pd\n",
                "import matplotlib.pyplot as plt\n",
                "import matplotlib\n",
                "matplotlib.rcParams['figure.dpi']=200\n",
                "from datetime import datetime\n"
            ]
        },
        {
            "cell_type": "code",
            "execution_count": 9,
            "metadata": {},
            "outputs": [],
            "source": [
                "dividers = {'gate_36': 8.18*1e-3, 'gate_29': 8.27*1e-3}"
            ]
        },
        {
            "cell_type": "markdown",
            "metadata": {},
            "source": [
                "## settings Overhauser"
            ]
        },
        {
            "cell_type": "code",
            "execution_count": 10,
            "metadata": {},
            "outputs": [],
            "source": [
                "det_min_amp = -35 #mV negative in (1,1)\n",
                "angle_degree = 130.51  #degrees, 0 degree aligned with BNC29 in positive volt.direction\n"
            ]
        },
        {
            "cell_type": "code",
            "execution_count": 11,
            "metadata": {},
            "outputs": [],
            "source": [
                "initialize = {'gate_36': 0, #in mV\n",
                "              'gate_29': 1}\n",
                "measurement_point = {'gate_36': 0, #in mV\n",
                "              'gate_29': 1}\n",
                "\n",
                "det_min = {'gate_36': -det_min_amp*np.sin(angle_degree*np.pi/180), #in mV\n",
                "           'gate_29': -det_min_amp*np.cos(angle_degree*np.pi/180)}\n",
                "\n",
                "CW_amp = 0.25 #from OPX config file\n",
                "\n",
                "duration_init_pulse_in_clk_cycles = 1000\n",
                "duration_wait_after_init_in_clk_cycles = 1000\n",
                "time_at_measurement_point_per_RF_burst_in_clk_cycles = 1375\n",
                "total_time_at_measurement_point_in_clk_cycles = duration_wait_after_init_in_clk_cycles + 2*time_at_measurement_point_per_RF_burst_in_clk_cycles\n",
                "corrD_duration_in_clk_cycles = 2000\n",
                "\n",
                "#det_pulse_duration\n",
                "v_duration_overhauser_pulse_np = np.arange(0,101,1) \n",
                "n_overhauser_pulses_steps = len(v_duration_overhauser_pulse_np)\n",
                "#v_duration_overhauser_pulse_in_clk_cycles = v_duration_overhauser_pulse_np/4\n",
                "#corrD, 5 us long\n",
                "a7_np = -(initialize['gate_36']*duration_init_pulse_in_clk_cycles + det_min['gate_36']*v_duration_overhauser_pulse_np/4 + measurement_point['gate_36']*total_time_at_measurement_point_in_clk_cycles)/CW_amp*dividers['gate_36']/corrD_duration_in_clk_cycles\n",
                "a8_np = -(initialize['gate_29']*duration_init_pulse_in_clk_cycles + det_min['gate_29']*v_duration_overhauser_pulse_np/4 + measurement_point['gate_29']*total_time_at_measurement_point_in_clk_cycles)/CW_amp*dividers['gate_29']/corrD_duration_in_clk_cycles"
            ]
        },
        {
            "cell_type": "code",
            "execution_count": 12,
            "metadata": {},
            "outputs": [],
            "source": [
                "from qualang_tools.bakery.bakery import baking\n",
                "CW_amp = 0.25 #from OPX config file\n",
                "\n",
                "baked_waveforms = []\n",
                "for overhauser_duration in v_duration_overhauser_pulse_np:\n",
                "    with baking(config, padding_method='symmetric_l') as b:\n",
                "        b.add_op('gate_36_pulse','gate_36',[CW_amp]*overhauser_duration+[0])\n",
                "        b.add_op('gate_29_pulse','gate_29',[CW_amp]*overhauser_duration+[0])\n",
                "\n",
                "        b.play('gate_36_pulse','gate_36')\n",
                "        b.play('gate_29_pulse','gate_29')\n",
                "    baked_waveforms.append(b)\n",
                "    "
            ]
        },
        {
            "cell_type": "markdown",
            "metadata": {},
            "source": [
                "## macro Overhauser"
            ]
        },
        {
            "cell_type": "code",
            "execution_count": 13,
            "metadata": {},
            "outputs": [],
            "source": [
                "def run_overhauser_oscillations(): \n",
                "    amp_array = [('gate_36', (det_min['gate_36']/CW_amp*dividers['gate_36'])),\n",
                "                 ('gate_29', (det_min['gate_29']/CW_amp*dividers['gate_29']))]\n",
                "           \n",
                "    with for_(v5,0,v5<n_overhauser_pulses_steps,v5+1):\n",
                "        #initialize singlet\n",
                "        #initialize singlet\n",
                "        align(\"gate_36\", \"gate_29\")\n",
                "        play(\"CW\"*amp((initialize['gate_36'])/CW_amp*dividers['gate_36']), \"gate_36\", duration=duration_init_pulse_in_clk_cycles)\n",
                "        play(\"CW\"*amp((initialize['gate_29'])/CW_amp*dividers['gate_29']), \"gate_29\", duration=duration_init_pulse_in_clk_cycles)\n",
                "        #jumping  to reference point and waiting there\n",
                "        align(\"gate_36\", \"gate_29\")\n",
                "        play(\"CW\"*amp((-initialize['gate_36'] + measurement_point['gate_36'])/CW_amp*dividers['gate_36']), \"gate_36\", duration=duration_wait_after_init_in_clk_cycles)\n",
                "        play(\"CW\"*amp((-initialize['gate_29'] + measurement_point['gate_29'])/CW_amp*dividers['gate_29']), \"gate_29\", duration=duration_wait_after_init_in_clk_cycles)\n",
                "        #measure reference signal\n",
                "        align(\"gate_36\", \"gate_29\", \"bottom_right_DQD_readout\")\n",
                "        play(\"CW\"*amp(0.0), \"gate_36\", duration=time_at_measurement_point_per_RF_burst_in_clk_cycles)\n",
                "        play(\"CW\"*amp(-0.0), \"gate_29\", duration=time_at_measurement_point_per_RF_burst_in_clk_cycles)\n",
                "        measure(\"readout_pulse_3us\", \"bottom_right_DQD_readout\", None, demod.full(\"cos\", v1, \"out1\"), demod.full(\"sin\", v2, \"out1\"))\n",
                "        #save values\n",
                "        save(v1, r1)\n",
                "        save(v2, r2)\n",
                "        #det_pulse\n",
                "        align(\"gate_36\", \"gate_29\")\n",
                "        with switch_(v5):\n",
                "            for j in range(n_overhauser_pulses_steps):\n",
                "                with case_(j):\n",
                "                    baked_waveforms[j].run(amp_array)\n",
                "    \n",
                "        #meas signal\n",
                "        align(\"gate_36\", \"gate_29\", \"bottom_right_DQD_readout\")\n",
                "        play(\"CW\"*amp(0.0), \"gate_36\", duration=time_at_measurement_point_per_RF_burst_in_clk_cycles)\n",
                "        play(\"CW\"*amp(0.0), \"gate_29\", duration=time_at_measurement_point_per_RF_burst_in_clk_cycles)\n",
                "        wait(125) #to avoid resonator ringing at the measurement\n",
                "        reset_phase(\"bottom_right_DQD_readout\")  \n",
                "        measure(\"readout_pulse_5us\", \"bottom_right_DQD_readout\", None, demod.sliced(\"cos\", a1, 19, \"out1\"), demod.sliced(\"sin\", a2, 19, \"out1\"))\n",
                "        # #dummy pulse for constant qubit cycle length\n",
                "        # align(\"gate_36\", \"gate_29\")\n",
                "        # play(\"CW\"*amp(0.0), \"gate_36\", duration = 4 + v_duration_overhauser_pulse_qua[n_overhauser_pulses_steps-1] - v_duration_overhauser_pulse_qua[v5])\n",
                "        # play(\"CW\"*amp(0.0), \"gate_29\", duration = 4 + v_duration_overhauser_pulse_qua[n_overhauser_pulses_steps-1] - v_duration_overhauser_pulse_qua[v5])\n",
                "        \n",
                "        #corrD of 5 us\n",
                "        align(\"gate_36\", \"gate_29\")\n",
                "        play(\"CW\"*amp(a7[v5]- measurement_point['gate_36']/CW_amp*dividers['gate_36']), \"gate_36\", duration=corrD_duration_in_clk_cycles)\n",
                "        play(\"CW\"*amp(a8[v5]- measurement_point['gate_29']/CW_amp*dividers['gate_29']), \"gate_29\", duration=corrD_duration_in_clk_cycles)\n",
                "        align(\"gate_36\", \"gate_29\")\n",
                "        ramp_to_zero(\"gate_36\", 1)\n",
                "        ramp_to_zero(\"gate_29\", 1)\n",
                "        with for_(v3,0,v3<65,v3+1):                \n",
                "            save(a1[v3], r3)\n",
                "            save(a2[v3], r4)\n",
                "        \n",
                "        run_bayes_estimation()\n",
                "        assign(estimated_field, Math.dot(v_fB_qua,Pf))\n",
                "    return estimated_field"
            ]
        },
        {
            "cell_type": "markdown",
            "metadata": {},
            "source": [
                "## Macro bayes"
            ]
        },
        {
            "cell_type": "code",
            "execution_count": 14,
            "metadata": {},
            "outputs": [],
            "source": [
                "def run_bayes_estimation():\n",
                "            #BEGIN BAYES\n",
                "            #\"integrate\" for a chosen time bayes\n",
                "            assign(integrated_value,Math.dot(a1,average_dot_vector)) #a1 is I_2 which we are integrating until integration_time_us\n",
                "\n",
                "            assign(ind1,0)\n",
                "            #threshould the integrated value to assign singlet / triplet\n",
                "            assign(state[v5], Cast.to_int(integrated_value > threshold) ) #here be careful with threshold r_k should be 1 for S and -1 for T\n",
                "            save(state[v5], state_str)\n",
                "            assign(rk, Cast.to_fixed(state[v5]) - 0.5)\n",
                "\n",
                "            #loop through deltaBz values and update probability distribution\n",
                "            with for_(fB, fB_min, fB < fB_max+0.5*dfB, fB + dfB):\n",
                "                assign(C, Math.cos2pi(fB*t_samples[v5]))\n",
                "                assign(Pf[ind1], (0.5 + rk * (alpha + beta * C)) * Pf[ind1])\n",
                "                assign(ind1, ind1 + 1)           \n",
                "            #normalize\n",
                "            assign(norm, 1 / Math.sum(Pf))\n",
                "            with for_(ind1, 0, ind1 < Pf.length(), ind1 + 1):\n",
                "                assign(Pf[ind1], Pf[ind1] * norm)\n",
                "            "
            ]
        },
        {
            "cell_type": "markdown",
            "metadata": {},
            "source": [
                "# macro phase gate"
            ]
        },
        {
            "cell_type": "code",
            "execution_count": 15,
            "metadata": {},
            "outputs": [],
            "source": [
                "from qualang_tools.bakery.bakery import baking\n",
                "CW_amp = 0.25 #from OPX config file\n",
                "v_duration_phase_gate_pulse_np = np.arange(0,201)\n",
                "n_phase_gate_pulses_tau_steps = len(v_duration_phase_gate_pulse_np)\n",
                "baked_waveforms_phase_gate= []\n",
                "for overhauser_duration in v_duration_phase_gate_pulse_np:\n",
                "    with baking(config, padding_method='symmetric_l') as b_phase_gate:\n",
                "        b_phase_gate.add_op('gate_36_pulse','gate_36',[CW_amp]*overhauser_duration+[0])\n",
                "        b_phase_gate.add_op('gate_29_pulse','gate_29',[CW_amp]*overhauser_duration+[0])\n",
                "\n",
                "        b_phase_gate.play('gate_36_pulse','gate_36')\n",
                "        b_phase_gate.play('gate_29_pulse','gate_29')\n",
                "    baked_waveforms_phase_gate.append(b_phase_gate)\n",
                "    "
            ]
        },
        {
            "cell_type": "code",
            "execution_count": 16,
            "metadata": {},
            "outputs": [],
            "source": [
                "a7_phase_gate_np = -(initialize['gate_36']*duration_init_pulse_in_clk_cycles + det_min['gate_36']*v_duration_phase_gate_pulse_np/4 + measurement_point['gate_36']*total_time_at_measurement_point_in_clk_cycles)/CW_amp*dividers['gate_36']/corrD_duration_in_clk_cycles\n",
                "a8_phase_gate_np = -(initialize['gate_29']*duration_init_pulse_in_clk_cycles + det_min['gate_29']*v_duration_phase_gate_pulse_np/4 + measurement_point['gate_29']*total_time_at_measurement_point_in_clk_cycles)/CW_amp*dividers['gate_29']/corrD_duration_in_clk_cycles"
            ]
        },
        {
            "cell_type": "code",
            "execution_count": 17,
            "metadata": {},
            "outputs": [],
            "source": [
                "def run_phase_gate(active_estimation): \n",
                "    amp_array = [('gate_36', (det_min['gate_36']/CW_amp*dividers['gate_36'])),\n",
                "                 ('gate_29', (det_min['gate_29']/CW_amp*dividers['gate_29']))]\n",
                "           \n",
                "    with for_(v5,0,v5<n_phase_gate_pulses_steps,v5+1):\n",
                "        #initialize singlet\n",
                "        align(\"gate_36\", \"gate_29\")\n",
                "        play(\"CW\"*amp((initialize['gate_36'])/CW_amp*dividers['gate_36']), \"gate_36\", duration=duration_init_pulse_in_clk_cycles)\n",
                "        play(\"CW\"*amp((initialize['gate_29'])/CW_amp*dividers['gate_29']), \"gate_29\", duration=duration_init_pulse_in_clk_cycles)\n",
                "        #jumping  to reference point and waiting there\n",
                "        align(\"gate_36\", \"gate_29\")\n",
                "        play(\"CW\"*amp((-initialize['gate_36'] + measurement_point['gate_36'])/CW_amp*dividers['gate_36']), \"gate_36\", duration=duration_wait_after_init_in_clk_cycles)\n",
                "        play(\"CW\"*amp((-initialize['gate_29'] + measurement_point['gate_29'])/CW_amp*dividers['gate_29']), \"gate_29\", duration=duration_wait_after_init_in_clk_cycles)\n",
                "        #measure reference signal\n",
                "        align(\"gate_36\", \"gate_29\", \"bottom_right_DQD_readout\")\n",
                "        play(\"CW\"*amp(0.0), \"gate_36\", duration=time_at_measurement_point_per_RF_burst_in_clk_cycles)\n",
                "        play(\"CW\"*amp(-0.0), \"gate_29\", duration=time_at_measurement_point_per_RF_burst_in_clk_cycles)\n",
                "        measure(\"readout_pulse_3us\", \"bottom_right_DQD_readout\", None, demod.full(\"cos\", v1, \"out1\"), demod.full(\"sin\", v2, \"out1\"))\n",
                "        #save values\n",
                "        with if_(active_estimation == 0):\n",
                "            save(v1, r1_without_estimation)\n",
                "            save(v2, r2_without_estimation)\n",
                "            align(\"gate_36\", \"gate_29\")\n",
                "            with switch_(v_tau_dummy_phase_gate_in_ns_qua[v5]):\n",
                "                for j in range(n_phase_gate_pulses_tau_steps):\n",
                "                    with case_(j):\n",
                "                        baked_waveforms_phase_gate[j].run(amp_array)\n",
                "        \n",
                "        with else_():\n",
                "            save(v1, r1_with_estimation)\n",
                "            save(v2, r2_with_estimation)\n",
                "            with switch_(v_tau_phase_gate_in_ns[v5]):\n",
                "                for j in range(n_phase_gate_pulses_tau_steps):\n",
                "                    with case_(j):\n",
                "                        baked_waveforms_phase_gate[j].run(amp_array) # to run tau associated to wanted phase rotation\n",
                "        #det_pulse\n",
                "        \n",
                "        #meas signal\n",
                "        align(\"gate_36\", \"gate_29\", \"bottom_right_DQD_readout\")\n",
                "        play(\"CW\"*amp(0), \"gate_36\", duration=time_at_measurement_point_per_RF_burst_in_clk_cycles)\n",
                "        play(\"CW\"*amp(0), \"gate_29\", duration=time_at_measurement_point_per_RF_burst_in_clk_cycles)\n",
                "        wait(125) #to avoid resonator ringing at the measurement\n",
                "        reset_phase(\"bottom_right_DQD_readout\")  \n",
                "        measure(\"readout_pulse_3us\", \"bottom_right_DQD_readout\", None, demod.full(\"cos\", v1, \"out1\"), demod.full(\"sin\", v2, \"out1\"))\n",
                "        # #dummy pulse for constant qubit cycle length\n",
                "        # align(\"gate_36\", \"gate_29\")\n",
                "        # play(\"CW\"*amp(0.0), \"gate_36\", duration = 4 + v_duration_overhauser_pulse_qua[n_overhauser_pulses_steps-1] - v_duration_overhauser_pulse_qua[v5])\n",
                "        # play(\"CW\"*amp(0.0), \"gate_29\", duration = 4 + v_duration_overhauser_pulse_qua[n_overhauser_pulses_steps-1] - v_duration_overhauser_pulse_qua[v5])\n",
                "        \n",
                "        #corrD of 5 us\n",
                "        align(\"gate_36\", \"gate_29\")\n",
                "        play(\"CW\"*amp(a7_phase_gate_qua[v_tau_phase_gate_in_ns[v5]]- measurement_point['gate_36']/CW_amp*dividers['gate_36']), \"gate_36\", duration=corrD_duration_in_clk_cycles)\n",
                "        play(\"CW\"*amp(a8_phase_gate_qua[v_tau_phase_gate_in_ns[v5]]- measurement_point['gate_29']/CW_amp*dividers['gate_29']), \"gate_29\", duration=corrD_duration_in_clk_cycles)\n",
                "        align(\"gate_36\", \"gate_29\")\n",
                "        ramp_to_zero(\"gate_36\", 1)\n",
                "        ramp_to_zero(\"gate_29\", 1)\n",
                "        with if_(active_estimation == 0):\n",
                "            save(v1, r3_without_estimation)\n",
                "            save(v2, r4_without_estimation)\n",
                "        with else_():\n",
                "            save(v1, r3_with_estimation)\n",
                "            save(v2, r4_with_estimation)"
            ]
        },
        {
            "cell_type": "markdown",
            "metadata": {},
            "source": [
                "# main"
            ]
        },
        {
            "cell_type": "code",
            "execution_count": 18,
            "metadata": {},
            "outputs": [
                {
                    "name": "stdout",
                    "output_type": "stream",
                    "text": [
                        "2022-09-06 16:34:21,911 - qm - INFO - Flags: \n",
                        "2022-09-06 16:34:21,912 - qm - INFO - Compiling program\n"
                    ]
                }
            ],
            "source": [
                "from qm.qua import *\n",
                "n_repetitions = 1000\n",
                "n_averages = 4\n",
                "n_phase_gate_pulses_steps = 50\n",
                "phase_min_unit_2_pi = 0\n",
                "phase_max_unit_2_pi = 3.5#4*np.pi\n",
                "\n",
                "v_phase_gate_unit_2pi_np = np.linspace(phase_min_unit_2_pi,phase_max_unit_2_pi,n_phase_gate_pulses_steps )\n",
                "\n",
                "v_tau_dummy_phase_gate_in_ns_np = np.arange(0,n_phase_gate_pulses_steps,1)\n",
                "\n",
                "readout_length = 4940\n",
                "chunk_size = 76\n",
                "slices = readout_length // chunk_size\n",
                "\n",
                "#t_max = 100 #?\n",
                "# defining bayesian estimation parameters\n",
                "#note FB, and t_samp are changed in scale to account for fixed point range of OPX, they are multiplied together so the result should be unchanged.\n",
                "threshold = 90e-6\n",
                "fB_min = 0.5#originally 1e6 for 1MHz \n",
                "fB_max = 5# 60e6 for 60MHz\n",
                "dfB = 0.1# 1e6 for 1MHz steps\n",
                "v_fB = np.arange(fB_min,fB_max+0.5*dfB,dfB)\n",
                "num_Bs = len(v_fB)\n",
                "alpha = 0.25\n",
                "beta = 0.5\n",
                "t_samp = 1e-2 #normalization factor to avoid overflow?\n",
                "integration_time_us = 3\n",
                "\n",
                "\n",
                "\n",
                "n_chunks_to_integrate = int(np.floor(integration_time_us*1e3/chunk_size).item())\n",
                "v_duration_overhauser_pulse_np_normalized = v_duration_overhauser_pulse_np*t_samp #for avoid overflow\n",
                "with program() as prog:\n",
                "    # SETTINGS OVERHAUSER\n",
                "    v1 = declare(fixed, )\n",
                "    v2 = declare(fixed, )\n",
                "    a1 = declare(fixed, size=65) #where I_2 is saved, size is number of slices\n",
                "    a2 = declare(fixed, size=65)\n",
                "    v3 = declare(int, )\n",
                "    v4 = declare(int, )\n",
                "    v5 = declare(int, )\n",
                "    v6 = declare(int, ) #averages for phase gate pulses\n",
                "    v7 = declare(int, ) #for constructing array of tau-s for phase gate\n",
                "    #differential measurement    \n",
                "    # delta_I = declare(fixed)\n",
                "    # delta_Q = declare(fixed)\n",
                "    #vector of tau overhauser\n",
                "    v_duration_overhauser_pulse_qua = declare(int, value =  v_duration_overhauser_pulse_np.tolist())\n",
                "    \n",
                "    a7 = declare(fixed, value = a7_np.tolist()) \n",
                "    a8 = declare(fixed, value = a8_np.tolist()) \n",
                "    \n",
                "    a7_phase_gate_qua = declare(fixed, value = a7_phase_gate_np.tolist()) \n",
                "    a8_phase_gate_qua = declare(fixed, value = a8_phase_gate_np.tolist()) \n",
                "    \n",
                "    r1 = declare_stream() #I_1 ref\n",
                "    r2 = declare_stream() #Q_1 ref\n",
                "    r3 = declare_stream() #I_2 sig\n",
                "    r4 = declare_stream() #Q_2 sig\n",
                "\n",
                "    #declaring all things for bayesian\n",
                "    #alpha beta defined outside\n",
                "    Pf = declare(fixed, value = (np.ones(num_Bs)/num_Bs).tolist())\n",
                "    Pf_str = declare_stream()\n",
                "    state = declare(int, size = n_overhauser_pulses_steps)\n",
                "    state_str = declare_stream()\n",
                "    t_samples = declare(fixed,value = v_duration_overhauser_pulse_np_normalized.tolist())\n",
                "\n",
                "    average_dot_vector = declare(fixed,\n",
                "                                value=[1/n_chunks_to_integrate]*n_chunks_to_integrate+[0]*(slices-n_chunks_to_integrate))\n",
                "    integrated_value = declare(fixed)\n",
                "\n",
                "    fB = declare(fixed)\n",
                "\n",
                "    C = declare(fixed)\n",
                "    ind1 = declare(int)\n",
                "    rk = declare(fixed)\n",
                "    norm = declare(fixed)\n",
                "    ind2 = declare(int)\n",
                "    ind3 = declare(int)\n",
                "    #variables for conditional estimation\n",
                "    active_estimation = declare(int) #if 0, run dummy phase gate pulse\n",
                "     \n",
                "    r1_with_estimation = declare_stream() #I_1 ref _with_estimation\n",
                "    r2_with_estimation = declare_stream() #Q_1 ref _with_estimation   \n",
                "    r3_with_estimation = declare_stream() #I_2 sig _with_estimation\n",
                "    r4_with_estimation = declare_stream() #Q_2 sig _with_estimation\n",
                "    \n",
                "    r1_without_estimation = declare_stream() #I_1 ref\n",
                "    r2_without_estimation = declare_stream() #Q_1 ref\n",
                "    r3_without_estimation = declare_stream() #I_2 sig _without_estimation\n",
                "    r4_without_estimation = declare_stream() #Q_2 sig _without_estimation\n",
                "\n",
                "    # #variables phase pulse\n",
                "    v_phase_gate_unit_2pi_qua = declare(fixed, value = v_phase_gate_unit_2pi_np.tolist())\n",
                "    v_tau_phase_gate_in_ns = declare(int, size = n_phase_gate_pulses_steps)\n",
                "    v_tau_dummy_phase_gate_in_ns_qua = declare(int,value = v_tau_dummy_phase_gate_in_ns_np.tolist())\n",
                "\n",
                "    counter_phase_pulses = declare(int, value = 0)\n",
                "    counter_phase_pulses_stream = declare_stream()\n",
                "\n",
                "    index_baked_phase_gate = declare(int) # to pick the correct tau for phase gate pulse\n",
                "    #bayesan estimation\n",
                "    estimated_field = declare(fixed) #10^7 Hz unit\n",
                "    counter_phase_pulses_stream = declare_stream()\n",
                "    #to calculate mean field from distribution\n",
                "    v_fB_qua = declare(fixed, value = v_fB.tolist())\n",
                "    #debugging\n",
                "    v_effective_tau_computed_stream = declare_stream()\n",
                "    v_estimated_field_stream = declare_stream()\n",
                "    with for_(v4,0,v4<n_repetitions,v4+1):\n",
                "        estimated_field = run_overhauser_oscillations()\n",
                "        \n",
                "        #constructing array of taus\n",
                "        with if_(estimated_field >=1):\n",
                "\n",
                "            with for_(v7,0,v7<n_phase_gate_pulses_steps,v7+1):\n",
                "                assign(v_tau_phase_gate_in_ns[v7],Cast.mul_int_by_fixed(100,(v_phase_gate_unit_2pi_qua[v7]/estimated_field)))\n",
                "                \n",
                "                # let's add conditions on tau, which MUST be between 16 ns (4 clk cycles) and 200 ns\n",
                "                #with if_(v_tau_phase_gate_in_clk_cycles[v7] < 0):\n",
                "                #    assign(v_tau_phase_gate_in_clk_cycles[v7],4)\n",
                "                with if_(v_tau_phase_gate_in_ns[v7] > 200):\n",
                "                    assign(v_tau_phase_gate_in_ns[v7],200)\n",
                "                save(v_tau_phase_gate_in_ns[v7],v_effective_tau_computed_stream)\n",
                "\n",
                "            with for_(v6,0,v6<n_averages,v6+1):\n",
                "                assign(active_estimation,1)\n",
                "                run_phase_gate(active_estimation)\n",
                "            #random phase gate to show we are actually doing something that makes sense\n",
                "            with for_(v6,0,v6<n_averages,v6+1):\n",
                "                assign(active_estimation,0)\n",
                "                run_phase_gate(active_estimation)\n",
                "\n",
                "            assign(counter_phase_pulses,counter_phase_pulses+1)\n",
                "\n",
                "        \n",
                "        # with if_(estimated_field<=1.5):#pi/2 rotation possible for f<15.63MHz\n",
                "        #     assign(time_pi_over_2_ns, 0.25/estimated_field) #ns, 1/(4*estimated_field)*100 reducing a divsion\n",
                "        #     assign(time_pi_over_2_effective_clock_cycles,Cast.mul_int_by_fixed(25,time_pi_over_2_ns))\n",
                "        \n",
                "        # # with elif_(estimated_field > 1.5): #freq >16 MHz and < 39.06 MHz\n",
                "        # with else_():\n",
                "        #     assign(time_pi_over_2_ns, 1.25/estimated_field) #ns, 5/(4*estimated_field)*100 reducing a divsion\n",
                "        #     assign(time_pi_over_2_effective_clock_cycles,Cast.mul_int_by_fixed(25,time_pi_over_2_ns))                   \n",
                "    \n",
                "        # run_exchange_oscillations(time_pi_over_2_effective_clock_cycles)    \n",
                "        \n",
                "        #save estimated field and pi/2 duration in terms of clk cycles\n",
                "        save(estimated_field, v_estimated_field_stream)\n",
                "        #save(time_pi_over_2_effective_clock_cycles, time_pi_over_2_effective_stream)\n",
                "        #save and reset probabilities between repetitions\n",
                "        with for_( ind3, 0 , ind3 < Pf.length(), ind3 + 1):\n",
                "            save(Pf[ind3],Pf_str)\n",
                "            assign(Pf[ind3],1/num_Bs)\n",
                "    save(counter_phase_pulses,counter_phase_pulses_stream)\n",
                "\n",
                "    with stream_processing():\n",
                "        r1.save_all(\"I_1\") #I_ref for estimating overhauser sequence\n",
                "        r2.save_all(\"Q_1\") #Q_ref for estimating overhauser sequence\n",
                "        r3.buffer(n_repetitions,n_overhauser_pulses_steps,65).save_all(\"I_2\") #I_sig for estimating overhauser sequence\n",
                "        r4.buffer(n_repetitions,n_overhauser_pulses_steps,65).save_all(\"Q_2\") #Q_sig for estimating overhauser sequence\n",
                "        #saving state and probability for fB\n",
                "        state_str.buffer(n_repetitions,n_overhauser_pulses_steps).save_all('state')\n",
                "        Pf_str.buffer(n_repetitions,num_Bs).save_all('Pf_str')\n",
                "        \n",
                "        ### save phase gate results ###\n",
                "        \n",
                "        #with estimated phase\n",
                "        r1_with_estimation.save_all(\"r1_with_estimation\")\n",
                "        r2_with_estimation.save_all(\"r2_with_estimation\")\n",
                "        r3_with_estimation.buffer(n_averages,n_phase_gate_pulses_steps).map(FUNCTIONS.average(0)).save_all(\"r3_with_estimation\")\n",
                "        r4_with_estimation.buffer(n_averages,n_phase_gate_pulses_steps).map(FUNCTIONS.average(0)).save_all(\"r4_with_estimation\")\n",
                "        \n",
                "        #dummy phase gate\n",
                "        r1_without_estimation.save_all(\"r1_without_estimation\")\n",
                "        r2_without_estimation.save_all(\"r2_without_estimation\")\n",
                "        r3_without_estimation.buffer(n_averages,n_phase_gate_pulses_steps).map(FUNCTIONS.average(0)).save_all(\"r3_without_estimation\")\n",
                "        r4_without_estimation.buffer(n_averages,n_phase_gate_pulses_steps).map(FUNCTIONS.average(0)).save_all(\"r4_without_estimation\")\n",
                "        counter_phase_pulses_stream.save_all('counter_phase_pulses')\n",
                "        #estimated field\n",
                "        v_estimated_field_stream.save_all(\"v_estimated_field\")\n",
                "        #debugging\n",
                "        v_effective_tau_computed_stream.buffer(n_phase_gate_pulses_steps).save_all('v_effective_tau_computed')\n",
                "\n",
                "qm = qmm.open_qm(config)\n",
                "overhauser_id = qm.compile(prog)"
            ]
        },
        {
            "cell_type": "code",
            "execution_count": 29,
            "metadata": {},
            "outputs": [
                {
                    "name": "stdout",
                    "output_type": "stream",
                    "text": [
                        "2022-09-06 16:30:37,440 - qm - INFO - Sending pre-compiled program to QOP\n"
                    ]
                }
            ],
            "source": [
                "p_job = qm.queue.add_compiled(overhauser_id)\n",
                "job = p_job.wait_for_execution()\n",
                "job.result_handles.wait_for_all_values()\n",
                "\n",
                "all_data = {name : data.fetch_all(flat_struct=True) for name,data in job.result_handles._all_results.items()}\n"
            ]
        },
        {
            "cell_type": "code",
            "execution_count": 30,
            "metadata": {},
            "outputs": [
                {
                    "data": {
                        "text/plain": [
                            "dict_keys(['I_1', 'Q_1', 'I_2', 'Q_2', 'state', 'Pf_str', 'r1_with_estimation', 'r2_with_estimation', 'r3_with_estimation', 'r4_with_estimation', 'r1_without_estimation', 'r2_without_estimation', 'r3_without_estimation', 'r4_without_estimation', 'counter_phase_pulses', 'v_estimated_field', 'v_effective_tau_computed'])"
                        ]
                    },
                    "execution_count": 30,
                    "metadata": {},
                    "output_type": "execute_result"
                }
            ],
            "source": [
                "all_data.keys()"
            ]
        },
        {
            "cell_type": "code",
            "execution_count": 33,
            "metadata": {},
            "outputs": [],
            "source": [
                "np.save('test_folder/all_data.npy',all_data)"
            ]
        },
        {
            "cell_type": "markdown",
            "metadata": {},
            "source": [
                "# Full sweep"
            ]
        },
        {
            "cell_type": "code",
            "execution_count": 23,
            "metadata": {},
            "outputs": [
                {
                    "data": {
                        "text/plain": [
                            "-0.131991"
                        ]
                    },
                    "execution_count": 23,
                    "metadata": {},
                    "output_type": "execute_result"
                }
            ],
            "source": [
                "qdac_2.BNC30()"
            ]
        },
        {
            "cell_type": "code",
            "execution_count": 24,
            "metadata": {},
            "outputs": [
                {
                    "data": {
                        "text/plain": [
                            "-0.131991"
                        ]
                    },
                    "execution_count": 24,
                    "metadata": {},
                    "output_type": "execute_result"
                }
            ],
            "source": [
                "qdac_2.ch06.v()"
            ]
        },
        {
            "cell_type": "code",
            "execution_count": 39,
            "metadata": {},
            "outputs": [
                {
                    "name": "stdout",
                    "output_type": "stream",
                    "text": [
                        "Starting experimental run with id: 1157. \n",
                        "2022-09-06 16:48:18,888 - qm - INFO - Sending pre-compiled program to QOP\n",
                        "2022-09-06 16:48:19,246 - qm - INFO - Sending pre-compiled program to QOP\n",
                        "20.106133\n",
                        "Starting experimental run with id: 1158. \n",
                        "2022-09-06 16:48:38,908 - qm - INFO - Sending pre-compiled program to QOP\n",
                        "2022-09-06 16:48:39,266 - qm - INFO - Sending pre-compiled program to QOP\n",
                        "17.332185900000013\n",
                        "Starting experimental run with id: 1159. \n",
                        "2022-09-06 16:48:56,336 - qm - INFO - Sending pre-compiled program to QOP\n",
                        "2022-09-06 16:48:56,712 - qm - INFO - Sending pre-compiled program to QOP\n",
                        "18.160877000000028\n",
                        "Starting experimental run with id: 1160. \n",
                        "2022-09-06 16:49:14,455 - qm - INFO - Sending pre-compiled program to QOP\n",
                        "2022-09-06 16:49:14,820 - qm - INFO - Sending pre-compiled program to QOP\n",
                        "20.324092899999982\n",
                        "Starting experimental run with id: 1161. \n",
                        "2022-09-06 16:49:34,811 - qm - INFO - Sending pre-compiled program to QOP\n",
                        "2022-09-06 16:49:35,216 - qm - INFO - Sending pre-compiled program to QOP\n",
                        "20.476463200000012\n",
                        "Starting experimental run with id: 1162. \n",
                        "2022-09-06 16:49:55,256 - qm - INFO - Sending pre-compiled program to QOP\n",
                        "2022-09-06 16:49:55,641 - qm - INFO - Sending pre-compiled program to QOP\n",
                        "20.22691180000004\n",
                        "Starting experimental run with id: 1163. \n",
                        "2022-09-06 16:50:15,474 - qm - INFO - Sending pre-compiled program to QOP\n",
                        "2022-09-06 16:50:15,827 - qm - INFO - Sending pre-compiled program to QOP\n",
                        "20.31898030000002\n",
                        "Starting experimental run with id: 1164. \n",
                        "2022-09-06 16:50:35,880 - qm - INFO - Sending pre-compiled program to QOP\n",
                        "2022-09-06 16:50:36,234 - qm - INFO - Sending pre-compiled program to QOP\n",
                        "20.34919500000001\n",
                        "Starting experimental run with id: 1165. \n",
                        "2022-09-06 16:50:56,170 - qm - INFO - Sending pre-compiled program to QOP\n",
                        "2022-09-06 16:50:56,542 - qm - INFO - Sending pre-compiled program to QOP\n",
                        "20.358604600000035\n",
                        "Starting experimental run with id: 1166. \n",
                        "2022-09-06 16:51:16,528 - qm - INFO - Sending pre-compiled program to QOP\n",
                        "2022-09-06 16:51:16,898 - qm - INFO - Sending pre-compiled program to QOP\n",
                        "20.44577409999988\n",
                        "Starting experimental run with id: 1167. \n",
                        "2022-09-06 16:51:36,952 - qm - INFO - Sending pre-compiled program to QOP\n",
                        "2022-09-06 16:51:37,353 - qm - INFO - Sending pre-compiled program to QOP\n",
                        "20.167780900000025\n",
                        "Starting experimental run with id: 1168. \n",
                        "2022-09-06 16:51:57,164 - qm - INFO - Sending pre-compiled program to QOP\n",
                        "2022-09-06 16:51:57,577 - qm - INFO - Sending pre-compiled program to QOP\n",
                        "20.203813600000103\n",
                        "Starting experimental run with id: 1169. \n",
                        "2022-09-06 16:52:17,267 - qm - INFO - Sending pre-compiled program to QOP\n",
                        "2022-09-06 16:52:17,592 - qm - INFO - Sending pre-compiled program to QOP\n",
                        "19.914889399999993\n",
                        "Starting experimental run with id: 1170. \n",
                        "2022-09-06 16:52:37,268 - qm - INFO - Sending pre-compiled program to QOP\n",
                        "2022-09-06 16:52:37,682 - qm - INFO - Sending pre-compiled program to QOP\n",
                        "17.66502379999997\n",
                        "Starting experimental run with id: 1171. \n",
                        "2022-09-06 16:52:54,908 - qm - INFO - Sending pre-compiled program to QOP\n",
                        "2022-09-06 16:52:55,284 - qm - INFO - Sending pre-compiled program to QOP\n",
                        "20.328032200000052\n",
                        "Starting experimental run with id: 1172. \n",
                        "2022-09-06 16:53:15,179 - qm - INFO - Sending pre-compiled program to QOP\n",
                        "2022-09-06 16:53:15,519 - qm - INFO - Sending pre-compiled program to QOP\n",
                        "16.778420000000096\n",
                        "Starting experimental run with id: 1173. \n",
                        "2022-09-06 16:53:31,960 - qm - INFO - Sending pre-compiled program to QOP\n",
                        "2022-09-06 16:53:32,351 - qm - INFO - Sending pre-compiled program to QOP\n",
                        "20.10673399999996\n",
                        "Starting experimental run with id: 1174. \n",
                        "2022-09-06 16:53:52,069 - qm - INFO - Sending pre-compiled program to QOP\n",
                        "2022-09-06 16:53:52,457 - qm - INFO - Sending pre-compiled program to QOP\n",
                        "20.30283559999998\n",
                        "Starting experimental run with id: 1175. \n",
                        "2022-09-06 16:54:12,440 - qm - INFO - Sending pre-compiled program to QOP\n",
                        "2022-09-06 16:54:12,799 - qm - INFO - Sending pre-compiled program to QOP\n",
                        "20.23045070000012\n",
                        "Starting experimental run with id: 1176. \n",
                        "2022-09-06 16:54:32,647 - qm - INFO - Sending pre-compiled program to QOP\n",
                        "2022-09-06 16:54:33,053 - qm - INFO - Sending pre-compiled program to QOP\n",
                        "20.29093940000007\n",
                        "Starting experimental run with id: 1177. \n",
                        "2022-09-06 16:54:52,963 - qm - INFO - Sending pre-compiled program to QOP\n",
                        "2022-09-06 16:54:53,338 - qm - INFO - Sending pre-compiled program to QOP\n",
                        "20.118383200000153\n",
                        "Starting experimental run with id: 1178. \n",
                        "2022-09-06 16:55:13,032 - qm - INFO - Sending pre-compiled program to QOP\n",
                        "2022-09-06 16:55:13,421 - qm - INFO - Sending pre-compiled program to QOP\n",
                        "20.238274100000126\n",
                        "Starting experimental run with id: 1179. \n",
                        "2022-09-06 16:55:33,315 - qm - INFO - Sending pre-compiled program to QOP\n",
                        "2022-09-06 16:55:33,638 - qm - INFO - Sending pre-compiled program to QOP\n",
                        "20.134621899999956\n",
                        "Starting experimental run with id: 1180. \n",
                        "2022-09-06 16:55:53,407 - qm - INFO - Sending pre-compiled program to QOP\n",
                        "2022-09-06 16:55:53,792 - qm - INFO - Sending pre-compiled program to QOP\n",
                        "18.649535000000014\n",
                        "Starting experimental run with id: 1181. \n",
                        "2022-09-06 16:56:12,112 - qm - INFO - Sending pre-compiled program to QOP\n",
                        "2022-09-06 16:56:12,464 - qm - INFO - Sending pre-compiled program to QOP\n",
                        "17.550290700000005\n",
                        "Starting experimental run with id: 1182. \n",
                        "2022-09-06 16:56:29,651 - qm - INFO - Sending pre-compiled program to QOP\n",
                        "2022-09-06 16:56:30,038 - qm - INFO - Sending pre-compiled program to QOP\n",
                        "19.834916699999894\n",
                        "Starting experimental run with id: 1183. \n",
                        "2022-09-06 16:56:49,490 - qm - INFO - Sending pre-compiled program to QOP\n",
                        "2022-09-06 16:56:49,877 - qm - INFO - Sending pre-compiled program to QOP\n",
                        "20.31360739999991\n",
                        "Starting experimental run with id: 1184. \n",
                        "2022-09-06 16:57:09,779 - qm - INFO - Sending pre-compiled program to QOP\n",
                        "2022-09-06 16:57:10,122 - qm - INFO - Sending pre-compiled program to QOP\n",
                        "20.296692500000063\n",
                        "Starting experimental run with id: 1185. \n",
                        "2022-09-06 16:57:30,082 - qm - INFO - Sending pre-compiled program to QOP\n",
                        "2022-09-06 16:57:30,465 - qm - INFO - Sending pre-compiled program to QOP\n",
                        "20.37814380000009\n",
                        "Starting experimental run with id: 1186. \n",
                        "2022-09-06 16:57:50,558 - qm - INFO - Sending pre-compiled program to QOP\n",
                        "2022-09-06 16:57:50,927 - qm - INFO - Sending pre-compiled program to QOP\n",
                        "20.52847440000005\n"
                    ]
                }
            ],
            "source": [
                "start_times = []\n",
                "stop_times = []\n",
                "for bnc30_val in np.linspace(-0.13,-0.134,30):\n",
                "    start_times.append(time.perf_counter())\n",
                "    os.mkdir(f'data_folder/{bnc30_val}')\n",
                "\n",
                "    qdac_2.ch06.v(bnc30_val)\n",
                "\n",
                "    amp,phase = do0d(bnc30_val)\n",
                "    np.save(f'data_folder/{bnc30_val}/sensor_data',np.array([bnc30_val,amp[0],phase[0]]))\n",
                "\n",
                "\n",
                "    p_job = qm.queue.add_compiled(overhauser_id)\n",
                "    job = p_job.wait_for_execution()\n",
                "    job.result_handles.wait_for_all_values()\n",
                "    all_data = {name : data.fetch_all(flat_struct=True) for name,data in job.result_handles._all_results.items()}\n",
                "\n",
                "    np.save(f'data_folder/{bnc30_val}/all_data',all_data)\n",
                "\n",
                "\n",
                "    stop_times.append(time.perf_counter())\n",
                "    print(stop_times[-1]-start_times[-1])\n",
                "\n",
                "qdac_2.BNC30(-0.132)\n"
            ]
        },
        {
            "cell_type": "code",
            "execution_count": 36,
            "metadata": {},
            "outputs": [],
            "source": [
                "test = np.load('data_folder/-0.134/all_data.npy',allow_pickle=True)[()]"
            ]
        },
        {
            "cell_type": "code",
            "execution_count": 38,
            "metadata": {},
            "outputs": [
                {
                    "data": {
                        "text/plain": [
                            "(1000, 101, 65)"
                        ]
                    },
                    "execution_count": 38,
                    "metadata": {},
                    "output_type": "execute_result"
                }
            ],
            "source": [
                "test['I_2'].shape"
            ]
        },
        {
            "cell_type": "code",
            "execution_count": null,
            "metadata": {},
            "outputs": [],
            "source": []
        }
    ],
    "metadata": {
        "kernelspec": {
            "display_name": "Python 3.7.6 ('base')",
            "language": "python",
            "name": "python3"
        },
        "language_info": {
            "codemirror_mode": {
                "name": "ipython",
                "version": 3
            },
            "file_extension": ".py",
            "mimetype": "text/x-python",
            "name": "python",
            "nbconvert_exporter": "python",
            "pygments_lexer": "ipython3",
            "version": "3.7.6"
        },
        "orig_nbformat": 4,
        "vscode": {
            "interpreter": {
                "hash": "ffd7ca4021e30b9d45cda531d28b6d577d53dede411111f377a2e0c545260ce2"
            }
        }
    },
    "nbformat": 4,
    "nbformat_minor": 2
}
