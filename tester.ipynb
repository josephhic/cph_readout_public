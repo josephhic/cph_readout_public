{
 "cells": [
  {
   "cell_type": "code",
   "execution_count": null,
   "metadata": {},
   "outputs": [],
   "source": []
  }
 ],
 "metadata": {
  "kernelspec": {
   "display_name": "Python 3.7.6 ('base')",
   "language": "python",
   "name": "python3"
  },
  "language_info": {
   "name": "python",
   "version": "3.7.6"
  },
  "orig_nbformat": 4,
  "vscode": {
   "interpreter": {
    "hash": "ffd7ca4021e30b9d45cda531d28b6d577d53dede411111f377a2e0c545260ce2"
   }
  }
 },
 "nbformat": 4,
 "nbformat_minor": 2
}
